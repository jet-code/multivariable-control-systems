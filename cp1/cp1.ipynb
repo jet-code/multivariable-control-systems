{
 "metadata": {
  "name": "",
  "signature": "sha256:ab5086194c6207efbcab32319e10042ecc254fb37773c927c470fe49b68c89cd"
 },
 "nbformat": 3,
 "nbformat_minor": 0,
 "worksheets": [
  {
   "cells": [
    {
     "cell_type": "code",
     "collapsed": false,
     "input": [
      "# Alexander Hebert\n",
      "# ECE 6390\n",
      "# Computer Project #1"
     ],
     "language": "python",
     "metadata": {},
     "outputs": [],
     "prompt_number": 1
    },
    {
     "cell_type": "code",
     "collapsed": false,
     "input": [
      "# Tested using Python v3.4 and IPython v2"
     ],
     "language": "python",
     "metadata": {},
     "outputs": [],
     "prompt_number": 2
    },
    {
     "cell_type": "code",
     "collapsed": false,
     "input": [
      "# Import libraries"
     ],
     "language": "python",
     "metadata": {},
     "outputs": []
    },
    {
     "cell_type": "code",
     "collapsed": false,
     "input": [
      "import numpy as np"
     ],
     "language": "python",
     "metadata": {},
     "outputs": [],
     "prompt_number": 3
    },
    {
     "cell_type": "code",
     "collapsed": false,
     "input": [
      "import scipy"
     ],
     "language": "python",
     "metadata": {},
     "outputs": [],
     "prompt_number": 4
    },
    {
     "cell_type": "code",
     "collapsed": false,
     "input": [
      "import sympy"
     ],
     "language": "python",
     "metadata": {},
     "outputs": [],
     "prompt_number": 5
    },
    {
     "cell_type": "code",
     "collapsed": false,
     "input": [
      "from IPython.display import display"
     ],
     "language": "python",
     "metadata": {},
     "outputs": [],
     "prompt_number": 6
    },
    {
     "cell_type": "code",
     "collapsed": false,
     "input": [
      "from sympy.interactive import printing"
     ],
     "language": "python",
     "metadata": {},
     "outputs": [],
     "prompt_number": 7
    },
    {
     "cell_type": "code",
     "collapsed": false,
     "input": [
      "printing.init_printing(use_latex='mathjax')"
     ],
     "language": "python",
     "metadata": {},
     "outputs": [],
     "prompt_number": 8
    },
    {
     "cell_type": "code",
     "collapsed": false,
     "input": [
      "from __future__ import division"
     ],
     "language": "python",
     "metadata": {},
     "outputs": [],
     "prompt_number": 9
    },
    {
     "cell_type": "code",
     "collapsed": false,
     "input": [
      "np.set_printoptions(precision=4)"
     ],
     "language": "python",
     "metadata": {},
     "outputs": [],
     "prompt_number": 10
    },
    {
     "cell_type": "code",
     "collapsed": false,
     "input": [
      "np.set_printoptions(suppress=True)"
     ],
     "language": "python",
     "metadata": {},
     "outputs": [],
     "prompt_number": 11
    },
    {
     "cell_type": "code",
     "collapsed": false,
     "input": [
      "# Original system:"
     ],
     "language": "python",
     "metadata": {},
     "outputs": []
    },
    {
     "cell_type": "code",
     "collapsed": false,
     "input": [
      "A = np.matrix(np.loadtxt('A.txt'))"
     ],
     "language": "python",
     "metadata": {},
     "outputs": [],
     "prompt_number": 12
    },
    {
     "cell_type": "code",
     "collapsed": false,
     "input": [
      "A"
     ],
     "language": "python",
     "metadata": {},
     "outputs": [
      {
       "metadata": {},
       "output_type": "pyout",
       "prompt_number": 13,
       "text": [
        "matrix([[   0.   ,    1.   ,    0.   ,    0.   ,    0.   ,    0.   ,\n",
        "            0.   ,    0.   ,    0.   ,    0.   ,    0.   ,    0.   ],\n",
        "        [  -0.202,   -1.15 ,    0.   ,    0.   ,    0.   ,    0.   ,\n",
        "            0.   ,    0.   ,    0.   ,    0.   ,    0.   ,    0.   ],\n",
        "        [   0.   ,    0.   ,    0.   ,    1.   ,    0.   ,    0.   ,\n",
        "            0.   ,    0.   ,    0.   ,    0.   ,    0.   ,    0.   ],\n",
        "        [   0.   ,    0.   ,    0.   ,    0.   ,    1.   ,    0.   ,\n",
        "            0.   ,    0.   ,    0.   ,    0.   ,    0.   ,    0.   ],\n",
        "        [   0.   ,    0.   ,   -2.36 ,  -13.6  ,  -12.8  ,    0.   ,\n",
        "            0.   ,    0.   ,    0.   ,    0.   ,    0.   ,    0.   ],\n",
        "        [   0.   ,    0.   ,    0.   ,    0.   ,    0.   ,    0.   ,\n",
        "            1.   ,    0.   ,    0.   ,    0.   ,    0.   ,    0.   ],\n",
        "        [   0.   ,    0.   ,    0.   ,    0.   ,    0.   ,    0.   ,\n",
        "            0.   ,    1.   ,    0.   ,    0.   ,    0.   ,    0.   ],\n",
        "        [   0.   ,    0.   ,    0.   ,    0.   ,    0.   ,   -1.62 ,\n",
        "           -9.4  ,   -9.15 ,    0.   ,    0.   ,    0.   ,    0.   ],\n",
        "        [   0.   ,    0.   ,    0.   ,    0.   ,    0.   ,    0.   ,\n",
        "            0.   ,    0.   ,    0.   ,    1.   ,    0.   ,    0.   ],\n",
        "        [   0.   ,    0.   ,    0.   ,    0.   ,    0.   ,    0.   ,\n",
        "            0.   ,    0.   ,    0.   ,    0.   ,    1.   ,    0.   ],\n",
        "        [   0.   ,    0.   ,    0.   ,    0.   ,    0.   ,    0.   ,\n",
        "            0.   ,    0.   ,    0.   ,    0.   ,    0.   ,    1.   ],\n",
        "        [   0.   ,    0.   ,    0.   ,    0.   ,    0.   ,    0.   ,\n",
        "            0.   ,    0.   , -188.   , -111.6  , -116.4  ,  -20.8  ]])"
       ]
      }
     ],
     "prompt_number": 13
    },
    {
     "cell_type": "code",
     "collapsed": false,
     "input": [
      "B = np.transpose(np.matrix(np.loadtxt('B.txt')))"
     ],
     "language": "python",
     "metadata": {},
     "outputs": [],
     "prompt_number": 14
    },
    {
     "cell_type": "code",
     "collapsed": false,
     "input": [
      "B"
     ],
     "language": "python",
     "metadata": {},
     "outputs": [
      {
       "metadata": {},
       "output_type": "pyout",
       "prompt_number": 15,
       "text": [
        "matrix([[ 0.    ,  0.    ],\n",
        "        [ 1.0439,  4.1486],\n",
        "        [ 0.    ,  0.    ],\n",
        "        [ 0.    ,  0.    ],\n",
        "        [-1.794 ,  2.6775],\n",
        "        [ 0.    ,  0.    ],\n",
        "        [ 0.    ,  0.    ],\n",
        "        [ 1.0439,  4.1486],\n",
        "        [ 0.    ,  0.    ],\n",
        "        [ 0.    ,  0.    ],\n",
        "        [ 0.    ,  0.    ],\n",
        "        [-1.704 ,  2.6775]])"
       ]
      }
     ],
     "prompt_number": 15
    },
    {
     "cell_type": "code",
     "collapsed": false,
     "input": [
      "C = np.matrix(np.loadtxt('C.txt'))"
     ],
     "language": "python",
     "metadata": {},
     "outputs": [],
     "prompt_number": 16
    },
    {
     "cell_type": "code",
     "collapsed": false,
     "input": [
      "C"
     ],
     "language": "python",
     "metadata": {},
     "outputs": [
      {
       "metadata": {},
       "output_type": "pyout",
       "prompt_number": 17,
       "text": [
        "matrix([[  0.264,   0.806,  -1.42 , -15.   ,   0.   ,   0.   ,   0.   ,\n",
        "           0.   ,   0.   ,   0.   ,   0.   ,   0.   ],\n",
        "        [  0.   ,   0.   ,   0.   ,   0.   ,   0.   ,   4.9  ,   2.12 ,\n",
        "           1.95 ,   9.35 ,  25.8  ,   7.14 ,   0.   ]])"
       ]
      }
     ],
     "prompt_number": 17
    },
    {
     "cell_type": "code",
     "collapsed": false,
     "input": [
      "D = np.zeros((2,2))"
     ],
     "language": "python",
     "metadata": {},
     "outputs": [],
     "prompt_number": 18
    },
    {
     "cell_type": "code",
     "collapsed": false,
     "input": [
      "D"
     ],
     "language": "python",
     "metadata": {},
     "outputs": [
      {
       "metadata": {},
       "output_type": "pyout",
       "prompt_number": 19,
       "text": [
        "array([[ 0.,  0.],\n",
        "       [ 0.,  0.]])"
       ]
      }
     ],
     "prompt_number": 19
    },
    {
     "cell_type": "code",
     "collapsed": false,
     "input": [
      "# Compute eigenvalues/poles of A to determine system stability:"
     ],
     "language": "python",
     "metadata": {},
     "outputs": []
    },
    {
     "cell_type": "code",
     "collapsed": false,
     "input": [
      "A_eigvals, M = np.linalg.eig(A)"
     ],
     "language": "python",
     "metadata": {},
     "outputs": [],
     "prompt_number": 20
    },
    {
     "cell_type": "code",
     "collapsed": false,
     "input": [
      "A_eigvals"
     ],
     "language": "python",
     "metadata": {},
     "outputs": [
      {
       "metadata": {},
       "output_type": "pyout",
       "prompt_number": 21,
       "text": [
        "array([ -0.2164+0.j    ,  -0.9336+0.j    , -11.6500+0.j    ,\n",
        "        -0.2172+0.j    ,  -0.9328+0.j    ,  -8.0004+0.j    ,\n",
        "        -0.2172+0.j    ,  -0.9325+0.j    , -10.9955+0.j    ,\n",
        "        -9.0644+0.j    ,  -0.3700+1.3226j,  -0.3700-1.3226j])"
       ]
      }
     ],
     "prompt_number": 21
    },
    {
     "cell_type": "code",
     "collapsed": false,
     "input": [
      "# All eigenvalues/poles of A are in the LHP. Therefore the system is stable."
     ],
     "language": "python",
     "metadata": {},
     "outputs": [],
     "prompt_number": 22
    },
    {
     "cell_type": "code",
     "collapsed": false,
     "input": [
      "# Sort eigenvalues and eigenvectors in descending order:"
     ],
     "language": "python",
     "metadata": {},
     "outputs": [],
     "prompt_number": 23
    },
    {
     "cell_type": "code",
     "collapsed": false,
     "input": [
      "idx = A_eigvals.argsort()[::-1]"
     ],
     "language": "python",
     "metadata": {},
     "outputs": [],
     "prompt_number": 24
    },
    {
     "cell_type": "code",
     "collapsed": false,
     "input": [
      "A_eigvals = A_eigvals[idx]"
     ],
     "language": "python",
     "metadata": {},
     "outputs": [],
     "prompt_number": 25
    },
    {
     "cell_type": "code",
     "collapsed": false,
     "input": [
      "A_eigvals"
     ],
     "language": "python",
     "metadata": {},
     "outputs": [
      {
       "metadata": {},
       "output_type": "pyout",
       "prompt_number": 26,
       "text": [
        "array([ -0.2164+0.j    ,  -0.2172+0.j    ,  -0.2172+0.j    ,\n",
        "        -0.3700+1.3226j,  -0.3700-1.3226j,  -0.9325+0.j    ,\n",
        "        -0.9328+0.j    ,  -0.9336+0.j    ,  -8.0004+0.j    ,\n",
        "        -9.0644+0.j    , -10.9955+0.j    , -11.6500+0.j    ])"
       ]
      }
     ],
     "prompt_number": 26
    },
    {
     "cell_type": "code",
     "collapsed": false,
     "input": [
      "M = M[:,idx]"
     ],
     "language": "python",
     "metadata": {},
     "outputs": [],
     "prompt_number": 27
    },
    {
     "cell_type": "code",
     "collapsed": false,
     "input": [
      "# Compute linear transformation Tc to get controller-type block companion form."
     ],
     "language": "python",
     "metadata": {},
     "outputs": []
    },
    {
     "cell_type": "code",
     "collapsed": false,
     "input": [
      "gamma = 12/2"
     ],
     "language": "python",
     "metadata": {},
     "outputs": [],
     "prompt_number": 28
    },
    {
     "cell_type": "code",
     "collapsed": false,
     "input": [
      "gamma"
     ],
     "language": "python",
     "metadata": {},
     "outputs": [
      {
       "latex": [
        "$$6.0$$"
       ],
       "metadata": {},
       "output_type": "pyout",
       "prompt_number": 29,
       "text": [
        "6.0"
       ]
      }
     ],
     "prompt_number": 29
    },
    {
     "cell_type": "code",
     "collapsed": false,
     "input": [
      "# gamma is an integer."
     ],
     "language": "python",
     "metadata": {},
     "outputs": [],
     "prompt_number": 30
    },
    {
     "cell_type": "code",
     "collapsed": false,
     "input": [
      "Bc = np.matrix([[0,0],\n",
      "                [0,0],\n",
      "                [0,0],\n",
      "                [0,0],\n",
      "                [0,0],\n",
      "                [0,0],\n",
      "                [0,0],\n",
      "                [0,0],\n",
      "                [0,0],\n",
      "                [0,0],\n",
      "                [1,0],\n",
      "                [0,1]])"
     ],
     "language": "python",
     "metadata": {},
     "outputs": [],
     "prompt_number": 31
    },
    {
     "cell_type": "code",
     "collapsed": false,
     "input": [
      "Bc"
     ],
     "language": "python",
     "metadata": {},
     "outputs": [
      {
       "metadata": {},
       "output_type": "pyout",
       "prompt_number": 32,
       "text": [
        "matrix([[0, 0],\n",
        "        [0, 0],\n",
        "        [0, 0],\n",
        "        [0, 0],\n",
        "        [0, 0],\n",
        "        [0, 0],\n",
        "        [0, 0],\n",
        "        [0, 0],\n",
        "        [0, 0],\n",
        "        [0, 0],\n",
        "        [1, 0],\n",
        "        [0, 1]])"
       ]
      }
     ],
     "prompt_number": 32
    },
    {
     "cell_type": "code",
     "collapsed": false,
     "input": [
      "Tc1 = (Bc.T)*np.linalg.inv(np.concatenate(\n",
      "(B,A*B,(A**2)*B,(A**3)*B,(A**4)*B,(A**5)*B),1))"
     ],
     "language": "python",
     "metadata": {},
     "outputs": [],
     "prompt_number": 33
    },
    {
     "cell_type": "code",
     "collapsed": false,
     "input": [
      "Tc1"
     ],
     "language": "python",
     "metadata": {},
     "outputs": [
      {
       "metadata": {},
       "output_type": "pyout",
       "prompt_number": 34,
       "text": [
        "matrix([[  5.6689,   1.448 ,   0.0041,  -0.0025,  -0.0001, -45.3482,\n",
        "         -17.2531,  -1.448 ,  -0.0337,   0.0162,   0.003 ,   0.0001],\n",
        "        [  3.6078,   0.9215,   0.0274,   0.0006,  -0.    , -28.8598,\n",
        "         -10.9799,  -0.9215,  -0.2282,  -0.0331,  -0.0003,   0.    ]])"
       ]
      }
     ],
     "prompt_number": 34
    },
    {
     "cell_type": "code",
     "collapsed": false,
     "input": [
      "Tc = np.concatenate(\n",
      "(Tc1,Tc1*A,Tc1*(A**2),Tc1*(A**3),Tc1*(A**4),Tc1*(A**5)),0)"
     ],
     "language": "python",
     "metadata": {},
     "outputs": [],
     "prompt_number": 35
    },
    {
     "cell_type": "code",
     "collapsed": false,
     "input": [
      "Tc"
     ],
     "language": "python",
     "metadata": {},
     "outputs": [
      {
       "metadata": {},
       "output_type": "pyout",
       "prompt_number": 36,
       "text": [
        "matrix([[   5.6689,    1.448 ,    0.0041,   -0.0025,   -0.0001,  -45.3482,\n",
        "          -17.2531,   -1.448 ,   -0.0337,    0.0162,    0.003 ,    0.0001],\n",
        "        [   3.6078,    0.9215,    0.0274,    0.0006,   -0.    ,  -28.8598,\n",
        "          -10.9799,   -0.9215,   -0.2282,   -0.0331,   -0.0003,    0.    ],\n",
        "        [  -0.2925,    4.0037,    0.0001,    0.0049,   -0.0017,    2.3458,\n",
        "          -31.7368,   -4.0037,   -0.0115,   -0.0405,    0.0091,    0.0018],\n",
        "        [  -0.1861,    2.548 ,    0.0001,    0.0279,    0.001 ,    1.4929,\n",
        "          -20.1975,   -2.548 ,   -0.0073,   -0.2326,   -0.0376,   -0.0011],\n",
        "        [  -0.8087,   -4.8968,    0.004 ,    0.0234,    0.0268,    6.4861,\n",
        "           39.981 ,    4.8974,   -0.3335,   -0.2095,   -0.247 ,   -0.0278],\n",
        "        [  -0.5147,   -3.1164,   -0.0025,   -0.0141,    0.0146,    4.1278,\n",
        "           25.4441,    3.1167,    0.2031,    0.1133,   -0.1068,   -0.0152],\n",
        "        [   0.9891,    4.8225,   -0.0633,   -0.3608,   -0.32  ,   -7.9338,\n",
        "          -39.5496,   -4.8303,    5.2337,    2.7733,    3.031 ,    0.3321],\n",
        "        [   0.6295,    3.0691,   -0.0345,   -0.2013,   -0.2012,   -5.0491,\n",
        "          -25.1696,   -3.0741,    2.8532,    1.8968,    1.8798,    0.2089],\n",
        "        [  -0.9741,   -4.5568,    0.7551,    4.2881,    3.7347,    7.8251,\n",
        "           37.4714,    4.648 ,  -62.4292,  -31.8253,  -35.8796,   -3.8761],\n",
        "        [  -0.62  ,   -2.9   ,    0.4749,    2.7024,    2.3746,    4.98  ,\n",
        "           23.847 ,    2.958 ,  -39.2657,  -20.4556,  -22.4145,   -2.4645],\n",
        "        [   0.9205,    4.2661,   -8.8139,  -50.037 ,  -43.5162,   -7.5297,\n",
        "          -35.866 ,   -5.0577,  728.7022,  370.1408,  419.3498,   44.7427],\n",
        "        [   0.5858,    2.715 ,   -5.604 ,  -31.8193,  -27.6922,   -4.792 ,\n",
        "          -22.8253,   -3.2188,  463.3185,  235.768 ,  266.4076,   28.8462]])"
       ]
      }
     ],
     "prompt_number": 36
    },
    {
     "cell_type": "code",
     "collapsed": false,
     "input": [
      "Tc_inv = np.linalg.inv(Tc)"
     ],
     "language": "python",
     "metadata": {},
     "outputs": [],
     "prompt_number": 37
    },
    {
     "cell_type": "code",
     "collapsed": false,
     "input": [
      "Tc_inv"
     ],
     "language": "python",
     "metadata": {},
     "outputs": [
      {
       "metadata": {},
       "output_type": "pyout",
       "prompt_number": 38,
       "text": [
        "matrix([[  76.9462,  -11.6521,  448.169 ,  -60.8902,  444.4161,  -26.8159,\n",
        "           57.0493,   30.767 ,    1.0439,    4.1486,    0.    ,   -0.    ],\n",
        "        [  -0.    ,    0.    ,   76.9462,  -11.6521,  448.169 ,  -60.8902,\n",
        "          444.4161,  -26.8159,   57.0493,   30.767 ,    1.0439,    4.1486],\n",
        "        [ -28.6997,   44.8675,  -15.4174,   22.8961,  -17.2783,   25.8555,\n",
        "           -1.794 ,    2.6775,   -0.    ,    0.    ,   -0.    ,   -0.    ],\n",
        "        [  -0.    ,   -0.    ,  -28.6997,   44.8675,  -15.4174,   22.8961,\n",
        "          -17.2783,   25.8555,   -1.794 ,    2.6775,   -0.    ,    0.    ],\n",
        "        [  -0.    ,   -0.    ,    0.    ,   -0.    ,  -28.6997,   44.8675,\n",
        "          -15.4174,   22.8961,  -17.2783,   25.8555,   -1.794 ,    2.6775],\n",
        "        [   9.5945,   -1.4529,   54.8332,   -7.4335,   48.6981,   -2.4218,\n",
        "            1.0439,    4.1486,    0.    ,   -0.    ,    0.    ,   -0.    ],\n",
        "        [  -0.    ,    0.    ,    9.5945,   -1.4529,   54.8332,   -7.4335,\n",
        "           48.6981,   -2.4218,    1.0439,    4.1486,    0.    ,    0.    ],\n",
        "        [  -0.    ,    0.    ,   -0.    ,    0.    ,    9.5945,   -1.4529,\n",
        "           54.8332,   -7.4335,   48.6981,   -2.4218,    1.0439,    4.1486],\n",
        "        [  -0.3452,    0.5424,   -1.9596,    3.0791,   -1.704 ,    2.6775,\n",
        "           -0.    ,    0.    ,   -0.    ,    0.    ,   -0.    ,   -0.    ],\n",
        "        [  -0.    ,    0.    ,   -0.3452,    0.5424,   -1.9596,    3.0791,\n",
        "           -1.704 ,    2.6775,   -0.    ,   -0.    ,   -0.    ,   -0.    ],\n",
        "        [   0.    ,   -0.    ,    0.    ,   -0.    ,   -0.3452,    0.5424,\n",
        "           -1.9596,    3.0791,   -1.704 ,    2.6775,    0.    ,    0.    ],\n",
        "        [  -0.    ,    0.    ,   -0.    ,    0.    ,    0.    ,   -0.    ,\n",
        "           -0.3452,    0.5424,   -1.9596,    3.0791,   -1.704 ,    2.6775]])"
       ]
      }
     ],
     "prompt_number": 38
    },
    {
     "cell_type": "code",
     "collapsed": false,
     "input": [
      "Ac = Tc*A*Tc_inv"
     ],
     "language": "python",
     "metadata": {},
     "outputs": [],
     "prompt_number": 39
    },
    {
     "cell_type": "code",
     "collapsed": false,
     "input": [
      "Ac"
     ],
     "language": "python",
     "metadata": {},
     "outputs": [
      {
       "metadata": {},
       "output_type": "pyout",
       "prompt_number": 40,
       "text": [
        "matrix([[  -0.    ,   -0.    ,    1.    ,   -0.    ,    0.    ,   -0.    ,\n",
        "            0.    ,   -0.    ,    0.    ,    0.    ,   -0.    ,   -0.    ],\n",
        "        [   0.    ,   -0.    ,    0.    ,    1.    ,   -0.    ,   -0.    ,\n",
        "           -0.    ,    0.    ,   -0.    ,    0.    ,    0.    ,   -0.    ],\n",
        "        [   0.    ,   -0.    ,   -0.    ,    0.    ,    1.    ,    0.    ,\n",
        "            0.    ,   -0.    ,    0.    ,   -0.    ,    0.    ,    0.    ],\n",
        "        [   0.    ,   -0.    ,    0.    ,   -0.    ,   -0.    ,    1.    ,\n",
        "            0.    ,    0.    ,    0.    ,   -0.    ,    0.    ,    0.    ],\n",
        "        [   0.    ,   -0.    ,    0.    ,   -0.    ,    0.    ,   -0.    ,\n",
        "            1.    ,   -0.    ,    0.    ,   -0.    ,    0.    ,    0.    ],\n",
        "        [  -0.    ,    0.    ,   -0.    ,    0.    ,   -0.    ,    0.    ,\n",
        "           -0.    ,    1.    ,   -0.    ,   -0.    ,   -0.    ,   -0.    ],\n",
        "        [   0.    ,   -0.    ,   -0.    ,    0.    ,   -0.    ,    0.    ,\n",
        "           -0.    ,    0.    ,    1.    ,   -0.    ,   -0.    ,   -0.    ],\n",
        "        [  -0.    ,    0.    ,   -0.    ,    0.    ,   -0.    ,   -0.    ,\n",
        "            0.    ,   -0.    ,    0.    ,    1.    ,    0.    ,    0.    ],\n",
        "        [   0.    ,   -0.    ,    0.    ,   -0.    ,   -0.    ,    0.    ,\n",
        "           -0.    ,   -0.    ,    0.    ,   -0.    ,    1.    ,    0.    ],\n",
        "        [   0.    ,   -0.    ,    0.    ,   -0.    ,    0.    ,   -0.    ,\n",
        "            0.    ,   -0.    ,    0.    ,    0.    ,    0.    ,    1.    ],\n",
        "        [ -31.5119,   43.5244, -219.7319,  275.8889, -428.7516,  406.4136,\n",
        "         -442.4287,  304.3612, -239.2004,  155.6859,  -31.5415,   15.0711],\n",
        "        [   4.1826,  -10.3846,   12.139 ,  -63.2263,  -56.5344,  -81.2714,\n",
        "         -122.6727,  -55.9729,  -62.8001,  -41.4416,   -6.1042,  -12.3585]])"
       ]
      }
     ],
     "prompt_number": 40
    },
    {
     "cell_type": "code",
     "collapsed": false,
     "input": [
      "Bc_verify = Tc*B"
     ],
     "language": "python",
     "metadata": {},
     "outputs": [],
     "prompt_number": 41
    },
    {
     "cell_type": "code",
     "collapsed": false,
     "input": [
      "Bc_verify"
     ],
     "language": "python",
     "metadata": {},
     "outputs": [
      {
       "metadata": {},
       "output_type": "pyout",
       "prompt_number": 42,
       "text": [
        "matrix([[-0., -0.],\n",
        "        [-0., -0.],\n",
        "        [ 0.,  0.],\n",
        "        [ 0.,  0.],\n",
        "        [-0.,  0.],\n",
        "        [-0.,  0.],\n",
        "        [-0.,  0.],\n",
        "        [ 0.,  0.],\n",
        "        [-0.,  0.],\n",
        "        [-0., -0.],\n",
        "        [ 1.,  0.],\n",
        "        [ 0.,  1.]])"
       ]
      }
     ],
     "prompt_number": 42
    },
    {
     "cell_type": "code",
     "collapsed": false,
     "input": [
      "Cc = C*Tc_inv"
     ],
     "language": "python",
     "metadata": {},
     "outputs": [],
     "prompt_number": 43
    },
    {
     "cell_type": "code",
     "collapsed": false,
     "input": [
      "Cc"
     ],
     "language": "python",
     "metadata": {},
     "outputs": [
      {
       "metadata": {},
       "output_type": "pyout",
       "prompt_number": 44,
       "text": [
        "matrix([[  61.0674,  -66.788 ,  632.7239, -730.992 ,  734.3456, -436.3131,\n",
        "          634.9827, -405.1258,   73.1673,  -14.269 ,    0.8414,    3.3438],\n",
        "        [  43.7857,   -2.0479,  261.7949,    3.2789,  304.622 ,   77.8893,\n",
        "          157.3251,   91.7629,   85.0079,   23.1899,    2.0356,    8.0898]])"
       ]
      }
     ],
     "prompt_number": 44
    },
    {
     "cell_type": "code",
     "collapsed": false,
     "input": [
      "# With the controller-type block companion form, the right MFD is obtained."
     ],
     "language": "python",
     "metadata": {},
     "outputs": []
    },
    {
     "cell_type": "code",
     "collapsed": false,
     "input": [
      "A11 = -1*Ac[10:12,0:2]"
     ],
     "language": "python",
     "metadata": {},
     "outputs": [],
     "prompt_number": 45
    },
    {
     "cell_type": "code",
     "collapsed": false,
     "input": [
      "A12 = -1*Ac[10:12,2:4]"
     ],
     "language": "python",
     "metadata": {},
     "outputs": [],
     "prompt_number": 46
    },
    {
     "cell_type": "code",
     "collapsed": false,
     "input": [
      "A13 = -1*Ac[10:12,4:6]"
     ],
     "language": "python",
     "metadata": {},
     "outputs": [],
     "prompt_number": 47
    },
    {
     "cell_type": "code",
     "collapsed": false,
     "input": [
      "A14 = -1*Ac[10:12,6:8]"
     ],
     "language": "python",
     "metadata": {},
     "outputs": [],
     "prompt_number": 48
    },
    {
     "cell_type": "code",
     "collapsed": false,
     "input": [
      "A15 = -1*Ac[10:12,8:10]"
     ],
     "language": "python",
     "metadata": {},
     "outputs": [],
     "prompt_number": 49
    },
    {
     "cell_type": "code",
     "collapsed": false,
     "input": [
      "A16 = -1*Ac[10:12,10:12]"
     ],
     "language": "python",
     "metadata": {},
     "outputs": [],
     "prompt_number": 50
    },
    {
     "cell_type": "code",
     "collapsed": false,
     "input": [
      "A17 = np.identity(2)"
     ],
     "language": "python",
     "metadata": {},
     "outputs": [],
     "prompt_number": 51
    },
    {
     "cell_type": "code",
     "collapsed": false,
     "input": [
      "A21 = Cc[0:2,0:2]"
     ],
     "language": "python",
     "metadata": {},
     "outputs": [],
     "prompt_number": 52
    },
    {
     "cell_type": "code",
     "collapsed": false,
     "input": [
      "A22 = Cc[0:2,2:4]"
     ],
     "language": "python",
     "metadata": {},
     "outputs": [],
     "prompt_number": 53
    },
    {
     "cell_type": "code",
     "collapsed": false,
     "input": [
      "A23 = Cc[0:2,4:6]"
     ],
     "language": "python",
     "metadata": {},
     "outputs": [],
     "prompt_number": 54
    },
    {
     "cell_type": "code",
     "collapsed": false,
     "input": [
      "A24 = Cc[0:2,6:8]"
     ],
     "language": "python",
     "metadata": {},
     "outputs": [],
     "prompt_number": 55
    },
    {
     "cell_type": "code",
     "collapsed": false,
     "input": [
      "A25 = Cc[0:2,8:10]"
     ],
     "language": "python",
     "metadata": {},
     "outputs": [],
     "prompt_number": 56
    },
    {
     "cell_type": "code",
     "collapsed": false,
     "input": [
      "A26 = Cc[0:2,10:12]"
     ],
     "language": "python",
     "metadata": {},
     "outputs": [],
     "prompt_number": 57
    },
    {
     "cell_type": "code",
     "collapsed": false,
     "input": [
      "# Model reduction using second Cauer method:"
     ],
     "language": "python",
     "metadata": {},
     "outputs": []
    },
    {
     "cell_type": "code",
     "collapsed": false,
     "input": [
      "# order of 2nd Cauer reduced model"
     ],
     "language": "python",
     "metadata": {},
     "outputs": [],
     "prompt_number": 58
    },
    {
     "cell_type": "code",
     "collapsed": false,
     "input": [
      "order = 2"
     ],
     "language": "python",
     "metadata": {},
     "outputs": [],
     "prompt_number": 59
    },
    {
     "cell_type": "code",
     "collapsed": false,
     "input": [
      "n_end = gamma + 1"
     ],
     "language": "python",
     "metadata": {},
     "outputs": [],
     "prompt_number": 60
    },
    {
     "cell_type": "code",
     "collapsed": false,
     "input": [
      "q = 1"
     ],
     "language": "python",
     "metadata": {},
     "outputs": [],
     "prompt_number": 61
    },
    {
     "cell_type": "code",
     "collapsed": false,
     "input": [
      "for m in np.linspace(1,order*2,order*2):\n",
      "    exec(\"H%d = (A%d%d)*np.linalg.inv(A%d%d)\" %(m,m,1,m+1,1))\n",
      "    exec(\"A%d%d = np.zeros((2,2))\" %(m+1,n_end))\n",
      "    \n",
      "    for n in np.linspace(1,n_end-1,n_end-1):\n",
      "        exec(\"A%d%d = (A%d%d) - (H%d)*(A%d%d)\" %(m+2,n,m,n+1,m,m+1,n+1))\n",
      "        \n",
      "        \n",
      "    if (np.equal(q,1)):\n",
      "        q = 0\n",
      "        n_end = n_end - 1\n",
      "        \n",
      "    q = q+1"
     ],
     "language": "python",
     "metadata": {},
     "outputs": [],
     "prompt_number": 62
    },
    {
     "cell_type": "code",
     "collapsed": false,
     "input": [
      "H1"
     ],
     "language": "python",
     "metadata": {},
     "outputs": [
      {
       "metadata": {},
       "output_type": "pyout",
       "prompt_number": 63,
       "text": [
        "matrix([[ 0.6577, -0.1977],\n",
        "        [-0.1594,  0.1267]])"
       ]
      }
     ],
     "prompt_number": 63
    },
    {
     "cell_type": "code",
     "collapsed": false,
     "input": [
      "H2"
     ],
     "language": "python",
     "metadata": {},
     "outputs": [
      {
       "metadata": {},
       "output_type": "pyout",
       "prompt_number": 64,
       "text": [
        "matrix([[-0.1178,  0.793 ],\n",
        "        [ 0.6139,  2.3887]])"
       ]
      }
     ],
     "prompt_number": 64
    },
    {
     "cell_type": "code",
     "collapsed": false,
     "input": [
      "H3"
     ],
     "language": "python",
     "metadata": {},
     "outputs": [
      {
       "metadata": {},
       "output_type": "pyout",
       "prompt_number": 65,
       "text": [
        "matrix([[-0.2786, -0.0307],\n",
        "        [-0.0022, -0.8821]])"
       ]
      }
     ],
     "prompt_number": 65
    },
    {
     "cell_type": "code",
     "collapsed": false,
     "input": [
      "H4"
     ],
     "language": "python",
     "metadata": {},
     "outputs": [
      {
       "metadata": {},
       "output_type": "pyout",
       "prompt_number": 66,
       "text": [
        "matrix([[ 3.0498, -0.6611],\n",
        "        [-0.5713, -0.5007]])"
       ]
      }
     ],
     "prompt_number": 66
    },
    {
     "cell_type": "code",
     "collapsed": false,
     "input": [
      "A_hat = -1*np.concatenate((np.concatenate((H1*H2,H1*H4),1),\n",
      "                          np.concatenate((H1*H2,(H1+H3)*H4),1)),0)"
     ],
     "language": "python",
     "metadata": {},
     "outputs": [],
     "prompt_number": 67
    },
    {
     "cell_type": "code",
     "collapsed": false,
     "input": [
      "A_hat"
     ],
     "language": "python",
     "metadata": {},
     "outputs": [
      {
       "metadata": {},
       "output_type": "pyout",
       "prompt_number": 68,
       "text": [
        "matrix([[ 0.1988, -0.0494, -2.1189,  0.3359],\n",
        "        [-0.0966, -0.1764,  0.5585, -0.0419],\n",
        "        [ 0.1988, -0.0494, -1.2867,  0.1363],\n",
        "        [-0.0966, -0.1764,  0.0611, -0.4851]])"
       ]
      }
     ],
     "prompt_number": 68
    },
    {
     "cell_type": "code",
     "collapsed": false,
     "input": [
      "A_hat_eigvals, M_hat = np.linalg.eig(A_hat)"
     ],
     "language": "python",
     "metadata": {},
     "outputs": [],
     "prompt_number": 69
    },
    {
     "cell_type": "code",
     "collapsed": false,
     "input": [
      "A_hat_eigvals"
     ],
     "language": "python",
     "metadata": {},
     "outputs": [
      {
       "metadata": {},
       "output_type": "pyout",
       "prompt_number": 70,
       "text": [
        "array([-0.8617+0.j    , -0.4482+0.j    , -0.2197+0.0014j, -0.2197-0.0014j])"
       ]
      }
     ],
     "prompt_number": 70
    },
    {
     "cell_type": "code",
     "collapsed": false,
     "input": [
      "B_hat = np.concatenate((np.identity(2),np.identity(2)),0)"
     ],
     "language": "python",
     "metadata": {},
     "outputs": [],
     "prompt_number": 71
    },
    {
     "cell_type": "code",
     "collapsed": false,
     "input": [
      "B_hat"
     ],
     "language": "python",
     "metadata": {},
     "outputs": [
      {
       "metadata": {},
       "output_type": "pyout",
       "prompt_number": 72,
       "text": [
        "array([[ 1.,  0.],\n",
        "       [ 0.,  1.],\n",
        "       [ 1.,  0.],\n",
        "       [ 0.,  1.]])"
       ]
      }
     ],
     "prompt_number": 72
    },
    {
     "cell_type": "code",
     "collapsed": false,
     "input": [
      "C_hat = np.concatenate((H2,H4),1)"
     ],
     "language": "python",
     "metadata": {},
     "outputs": [],
     "prompt_number": 73
    },
    {
     "cell_type": "code",
     "collapsed": false,
     "input": [
      "C_hat"
     ],
     "language": "python",
     "metadata": {},
     "outputs": [
      {
       "metadata": {},
       "output_type": "pyout",
       "prompt_number": 74,
       "text": [
        "matrix([[-0.1178,  0.793 ,  3.0498, -0.6611],\n",
        "        [ 0.6139,  2.3887, -0.5713, -0.5007]])"
       ]
      }
     ],
     "prompt_number": 74
    },
    {
     "cell_type": "code",
     "collapsed": false,
     "input": [
      "np.savetxt('A_hat_cp1.csv', A_hat, delimiter=',')"
     ],
     "language": "python",
     "metadata": {},
     "outputs": [],
     "prompt_number": 75
    },
    {
     "cell_type": "code",
     "collapsed": false,
     "input": [
      "np.savetxt('B_hat_cp1.csv', B_hat, delimiter=',')"
     ],
     "language": "python",
     "metadata": {},
     "outputs": [],
     "prompt_number": 76
    },
    {
     "cell_type": "code",
     "collapsed": false,
     "input": [
      "np.savetxt('C_hat_cp1.csv', C_hat, delimiter=',')"
     ],
     "language": "python",
     "metadata": {},
     "outputs": [],
     "prompt_number": 77
    },
    {
     "cell_type": "code",
     "collapsed": false,
     "input": [
      "# Model reduction using residualization:"
     ],
     "language": "python",
     "metadata": {},
     "outputs": []
    },
    {
     "cell_type": "code",
     "collapsed": false,
     "input": [
      "# M computed previously (see above)."
     ],
     "language": "python",
     "metadata": {},
     "outputs": [],
     "prompt_number": 81
    },
    {
     "cell_type": "code",
     "collapsed": false,
     "input": [
      "M"
     ],
     "language": "python",
     "metadata": {},
     "outputs": [
      {
       "metadata": {},
       "output_type": "pyout",
       "prompt_number": 78,
       "text": [
        "matrix([[ 0.9774+0.j    ,  0.0000+0.j    ,  0.0000+0.j    ,  0.0000+0.j    ,\n",
        "          0.0000-0.j    ,  0.0000+0.j    ,  0.0000+0.j    , -0.7309+0.j    ,\n",
        "          0.0000+0.j    ,  0.0000+0.j    ,  0.0000+0.j    ,  0.0000+0.j    ],\n",
        "        [-0.2115+0.j    ,  0.0000+0.j    ,  0.0000+0.j    ,  0.0000+0.j    ,\n",
        "          0.0000-0.j    ,  0.0000+0.j    ,  0.0000+0.j    ,  0.6824+0.j    ,\n",
        "          0.0000+0.j    ,  0.0000+0.j    ,  0.0000+0.j    ,  0.0000+0.j    ],\n",
        "        [ 0.0000+0.j    ,  0.0000+0.j    ,  0.9762+0.j    ,  0.0000+0.j    ,\n",
        "          0.0000-0.j    ,  0.0000+0.j    , -0.6169+0.j    ,  0.0000+0.j    ,\n",
        "          0.0000+0.j    ,  0.0000+0.j    ,  0.0000+0.j    , -0.0073+0.j    ],\n",
        "        [ 0.0000+0.j    ,  0.0000+0.j    , -0.2120+0.j    ,  0.0000+0.j    ,\n",
        "          0.0000-0.j    ,  0.0000+0.j    ,  0.5755+0.j    ,  0.0000+0.j    ,\n",
        "          0.0000+0.j    ,  0.0000+0.j    ,  0.0000+0.j    ,  0.0855+0.j    ],\n",
        "        [ 0.0000+0.j    ,  0.0000+0.j    ,  0.0460+0.j    ,  0.0000+0.j    ,\n",
        "          0.0000-0.j    ,  0.0000+0.j    , -0.5368+0.j    ,  0.0000+0.j    ,\n",
        "          0.0000+0.j    ,  0.0000+0.j    ,  0.0000+0.j    , -0.9963+0.j    ],\n",
        "        [ 0.0000+0.j    ,  0.9762+0.j    ,  0.0000+0.j    ,  0.0000+0.j    ,\n",
        "          0.0000-0.j    , -0.6171+0.j    ,  0.0000+0.j    ,  0.0000+0.j    ,\n",
        "         -0.0155+0.j    ,  0.0000+0.j    ,  0.0000+0.j    ,  0.0000+0.j    ],\n",
        "        [ 0.0000+0.j    , -0.2120+0.j    ,  0.0000+0.j    ,  0.0000+0.j    ,\n",
        "          0.0000-0.j    ,  0.5755+0.j    ,  0.0000+0.j    ,  0.0000+0.j    ,\n",
        "          0.1240+0.j    ,  0.0000+0.j    ,  0.0000+0.j    ,  0.0000+0.j    ],\n",
        "        [ 0.0000+0.j    ,  0.0460+0.j    ,  0.0000+0.j    ,  0.0000+0.j    ,\n",
        "          0.0000-0.j    , -0.5366+0.j    ,  0.0000+0.j    ,  0.0000+0.j    ,\n",
        "         -0.9922+0.j    ,  0.0000+0.j    ,  0.0000+0.j    ,  0.0000+0.j    ],\n",
        "        [ 0.0000+0.j    ,  0.0000+0.j    ,  0.0000+0.j    ,  0.2013+0.1884j,\n",
        "          0.2013-0.1884j,  0.0000+0.j    ,  0.0000+0.j    ,  0.0000+0.j    ,\n",
        "          0.0000+0.j    ,  0.0013+0.j    , -0.0007+0.j    ,  0.0000+0.j    ],\n",
        "        [ 0.0000+0.j    ,  0.0000+0.j    ,  0.0000+0.j    , -0.3237+0.1965j,\n",
        "         -0.3237-0.1965j,  0.0000+0.j    ,  0.0000+0.j    ,  0.0000+0.j    ,\n",
        "          0.0000+0.j    , -0.0121+0.j    ,  0.0082+0.j    ,  0.0000+0.j    ],\n",
        "        [ 0.0000+0.j    ,  0.0000+0.j    ,  0.0000+0.j    , -0.1401-0.5008j,\n",
        "         -0.1401+0.5008j,  0.0000+0.j    ,  0.0000+0.j    ,  0.0000+0.j    ,\n",
        "          0.0000+0.j    ,  0.1096+0.j    , -0.0906+0.j    ,  0.0000+0.j    ],\n",
        "        [ 0.0000+0.j    ,  0.0000+0.j    ,  0.0000+0.j    ,  0.7142+0.j    ,\n",
        "          0.7142-0.j    ,  0.0000+0.j    ,  0.0000+0.j    ,  0.0000+0.j    ,\n",
        "          0.0000+0.j    , -0.9939+0.j    ,  0.9959+0.j    ,  0.0000+0.j    ]])"
       ]
      }
     ],
     "prompt_number": 78
    },
    {
     "cell_type": "code",
     "collapsed": false,
     "input": [
      "M_inv = np.linalg.inv(M)"
     ],
     "language": "python",
     "metadata": {},
     "outputs": [],
     "prompt_number": 79
    },
    {
     "cell_type": "code",
     "collapsed": false,
     "input": [
      "M_inv"
     ],
     "language": "python",
     "metadata": {},
     "outputs": [
      {
       "metadata": {},
       "output_type": "pyout",
       "prompt_number": 80,
       "text": [
        "matrix([[   1.3317+0.j    ,    1.4264+0.j    ,    0.0000+0.j    ,\n",
        "            0.0000+0.j    ,    0.0000+0.j    ,    0.0000+0.j    ,\n",
        "            0.0000+0.j    ,    0.0000+0.j    ,    0.0000+0.j    ,\n",
        "            0.0000+0.j    ,    0.0000+0.j    ,    0.0000+0.j    ],\n",
        "        [   0.0000+0.j    ,    0.0000+0.j    ,    0.0000+0.j    ,\n",
        "            0.0000+0.j    ,    0.0000+0.j    ,    1.3726+0.j    ,\n",
        "            1.6436+0.j    ,    0.1840+0.j    ,    0.0000+0.j    ,\n",
        "            0.0000+0.j    ,    0.0000+0.j    ,    0.0000+0.j    ],\n",
        "        [   0.0000+0.j    ,    0.0000+0.j    ,    1.3606+0.j    ,\n",
        "            1.5754+0.j    ,    0.1252+0.j    ,    0.0000+0.j    ,\n",
        "            0.0000+0.j    ,    0.0000+0.j    ,    0.0000+0.j    ,\n",
        "            0.0000+0.j    ,    0.0000+0.j    ,    0.0000+0.j    ],\n",
        "        [   0.0000+0.j    ,    0.0000+0.j    ,    0.0000+0.j    ,\n",
        "            0.0000+0.j    ,    0.0000+0.j    ,    0.0000+0.j    ,\n",
        "            0.0000+0.j    ,    0.0000+0.j    ,    0.5332-1.9206j,\n",
        "           -1.1348-1.1372j,   -0.2446-0.1703j,   -0.0125-0.0075j],\n",
        "        [   0.0000+0.j    ,    0.0000+0.j    ,    0.0000+0.j    ,\n",
        "            0.0000+0.j    ,    0.0000+0.j    ,    0.0000+0.j    ,\n",
        "            0.0000+0.j    ,    0.0000+0.j    ,    0.5332+1.9206j,\n",
        "           -1.1348+1.1372j,   -0.2446+0.1703j,   -0.0125+0.0075j],\n",
        "        [   0.0000-0.j    ,    0.0000-0.j    ,    0.0000-0.j    ,\n",
        "            0.0000-0.j    ,    0.0000-0.j    ,    0.5568+0.j    ,\n",
        "            2.6337+0.j    ,    0.3205+0.j    ,    0.0000-0.j    ,\n",
        "            0.0000-0.j    ,    0.0000-0.j    ,    0.0000-0.j    ],\n",
        "        [   0.0000-0.j    ,    0.0000-0.j    ,    0.5347+0.j    ,\n",
        "            2.5079+0.j    ,    0.2113+0.j    ,    0.0000-0.j    ,\n",
        "            0.0000-0.j    ,    0.0000-0.j    ,    0.0000-0.j    ,\n",
        "            0.0000-0.j    ,    0.0000-0.j    ,    0.0000-0.j    ],\n",
        "        [   0.4127+0.j    ,    1.9073+0.j    ,    0.0000+0.j    ,\n",
        "            0.0000+0.j    ,    0.0000+0.j    ,    0.0000+0.j    ,\n",
        "            0.0000+0.j    ,    0.0000+0.j    ,    0.0000+0.j    ,\n",
        "            0.0000+0.j    ,    0.0000+0.j    ,    0.0000+0.j    ],\n",
        "        [   0.0000-0.j    ,    0.0000-0.j    ,    0.0000-0.j    ,\n",
        "            0.0000-0.j    ,    0.0000-0.j    ,   -0.2375-0.j    ,\n",
        "           -1.3482-0.j    ,   -1.1727-0.j    ,    0.0000-0.j    ,\n",
        "            0.0000-0.j    ,    0.0000-0.j    ,    0.0000-0.j    ],\n",
        "        [  -0.0000+0.j    ,   -0.0000+0.j    ,   -0.0000+0.j    ,\n",
        "           -0.0000+0.j    ,   -0.0000+0.j    ,   -0.0000+0.j    ,\n",
        "           -0.0000+0.j    ,   -0.0000+0.j    ,  104.0605+0.j    ,\n",
        "           50.2920+0.j    ,   58.8806+0.j    ,    5.0173+0.j    ],\n",
        "        [   0.0000+0.j    ,    0.0000+0.j    ,    0.0000+0.j    ,\n",
        "            0.0000+0.j    ,    0.0000+0.j    ,    0.0000+0.j    ,\n",
        "            0.0000+0.j    ,    0.0000+0.j    ,  103.0909+0.j    ,\n",
        "           51.8208+0.j    ,   59.1157+0.j    ,    6.0294+0.j    ],\n",
        "        [   0.0000-0.j    ,    0.0000-0.j    ,   -0.2252-0.j    ,\n",
        "           -1.2786-0.j    ,   -1.1118-0.j    ,    0.0000-0.j    ,\n",
        "            0.0000-0.j    ,    0.0000-0.j    ,    0.0000-0.j    ,\n",
        "            0.0000-0.j    ,    0.0000-0.j    ,    0.0000-0.j    ]])"
       ]
      }
     ],
     "prompt_number": 80
    },
    {
     "cell_type": "code",
     "collapsed": false,
     "input": [
      "Ad = M_inv*A*M"
     ],
     "language": "python",
     "metadata": {},
     "outputs": [],
     "prompt_number": 82
    },
    {
     "cell_type": "code",
     "collapsed": false,
     "input": [
      "Ad"
     ],
     "language": "python",
     "metadata": {},
     "outputs": [
      {
       "metadata": {},
       "output_type": "pyout",
       "prompt_number": 83,
       "text": [
        "matrix([[ -0.2164+0.j    ,   0.0000+0.j    ,   0.0000+0.j    ,\n",
        "           0.0000+0.j    ,   0.0000+0.j    ,   0.0000+0.j    ,\n",
        "           0.0000+0.j    ,  -0.0000+0.j    ,   0.0000+0.j    ,\n",
        "           0.0000+0.j    ,   0.0000+0.j    ,   0.0000+0.j    ],\n",
        "        [  0.0000+0.j    ,  -0.2172+0.j    ,   0.0000+0.j    ,\n",
        "           0.0000+0.j    ,   0.0000+0.j    ,   0.0000+0.j    ,\n",
        "           0.0000+0.j    ,   0.0000+0.j    ,  -0.0000+0.j    ,\n",
        "           0.0000+0.j    ,   0.0000+0.j    ,   0.0000+0.j    ],\n",
        "        [  0.0000+0.j    ,   0.0000+0.j    ,  -0.2172+0.j    ,\n",
        "           0.0000+0.j    ,   0.0000+0.j    ,   0.0000+0.j    ,\n",
        "           0.0000+0.j    ,   0.0000+0.j    ,   0.0000+0.j    ,\n",
        "           0.0000+0.j    ,   0.0000+0.j    ,   0.0000+0.j    ],\n",
        "        [  0.0000+0.j    ,   0.0000+0.j    ,   0.0000+0.j    ,\n",
        "          -0.3700+1.3226j,  -0.0000-0.j    ,   0.0000+0.j    ,\n",
        "           0.0000+0.j    ,   0.0000+0.j    ,   0.0000+0.j    ,\n",
        "          -0.0000-0.j    ,   0.0000+0.j    ,   0.0000+0.j    ],\n",
        "        [  0.0000+0.j    ,   0.0000+0.j    ,   0.0000+0.j    ,\n",
        "           0.0000-0.j    ,  -0.3700-1.3226j,   0.0000+0.j    ,\n",
        "           0.0000+0.j    ,   0.0000+0.j    ,   0.0000+0.j    ,\n",
        "          -0.0000+0.j    ,   0.0000-0.j    ,   0.0000+0.j    ],\n",
        "        [  0.0000+0.j    ,  -0.0000+0.j    ,   0.0000+0.j    ,\n",
        "           0.0000+0.j    ,   0.0000+0.j    ,  -0.9325+0.j    ,\n",
        "           0.0000+0.j    ,   0.0000+0.j    ,  -0.0000+0.j    ,\n",
        "           0.0000+0.j    ,   0.0000+0.j    ,   0.0000+0.j    ],\n",
        "        [  0.0000+0.j    ,   0.0000+0.j    ,  -0.0000+0.j    ,\n",
        "           0.0000+0.j    ,   0.0000+0.j    ,   0.0000+0.j    ,\n",
        "          -0.9328+0.j    ,   0.0000+0.j    ,   0.0000+0.j    ,\n",
        "           0.0000+0.j    ,   0.0000+0.j    ,   0.0000+0.j    ],\n",
        "        [  0.0000+0.j    ,   0.0000+0.j    ,   0.0000+0.j    ,\n",
        "           0.0000+0.j    ,   0.0000+0.j    ,   0.0000+0.j    ,\n",
        "           0.0000+0.j    ,  -0.9336+0.j    ,   0.0000+0.j    ,\n",
        "           0.0000+0.j    ,   0.0000+0.j    ,   0.0000+0.j    ],\n",
        "        [  0.0000+0.j    ,   0.0000+0.j    ,   0.0000+0.j    ,\n",
        "           0.0000+0.j    ,   0.0000+0.j    ,  -0.0000+0.j    ,\n",
        "           0.0000+0.j    ,   0.0000+0.j    ,  -8.0004+0.j    ,\n",
        "           0.0000+0.j    ,   0.0000+0.j    ,   0.0000+0.j    ],\n",
        "        [  0.0000+0.j    ,   0.0000+0.j    ,   0.0000+0.j    ,\n",
        "           0.0000-0.j    ,   0.0000+0.j    ,   0.0000+0.j    ,\n",
        "           0.0000+0.j    ,   0.0000+0.j    ,   0.0000+0.j    ,\n",
        "          -9.0644-0.j    ,  -0.0000+0.j    ,   0.0000+0.j    ],\n",
        "        [  0.0000+0.j    ,   0.0000+0.j    ,   0.0000+0.j    ,\n",
        "           0.0000-0.j    ,  -0.0000+0.j    ,   0.0000+0.j    ,\n",
        "           0.0000+0.j    ,   0.0000+0.j    ,   0.0000+0.j    ,\n",
        "           0.0000-0.j    , -10.9955+0.j    ,   0.0000+0.j    ],\n",
        "        [  0.0000+0.j    ,   0.0000+0.j    ,  -0.0000+0.j    ,\n",
        "           0.0000+0.j    ,   0.0000+0.j    ,   0.0000+0.j    ,\n",
        "           0.0000+0.j    ,   0.0000+0.j    ,   0.0000+0.j    ,\n",
        "           0.0000+0.j    ,   0.0000+0.j    , -11.6500+0.j    ]])"
       ]
      }
     ],
     "prompt_number": 83
    },
    {
     "cell_type": "code",
     "collapsed": false,
     "input": [
      "Bd = M_inv*B"
     ],
     "language": "python",
     "metadata": {},
     "outputs": [],
     "prompt_number": 84
    },
    {
     "cell_type": "code",
     "collapsed": false,
     "input": [
      "Bd"
     ],
     "language": "python",
     "metadata": {},
     "outputs": [
      {
       "metadata": {},
       "output_type": "pyout",
       "prompt_number": 85,
       "text": [
        "matrix([[  1.4890+0.j    ,   5.9176+0.j    ],\n",
        "        [  0.1921+0.j    ,   0.7633+0.j    ],\n",
        "        [ -0.2246+0.j    ,   0.3352+0.j    ],\n",
        "        [  0.0212+0.0128j,  -0.0334-0.0202j],\n",
        "        [  0.0212-0.0128j,  -0.0334+0.0202j],\n",
        "        [  0.3346+0.j    ,   1.3296+0.j    ],\n",
        "        [ -0.3791+0.j    ,   0.5658+0.j    ],\n",
        "        [  1.9911+0.j    ,   7.9127+0.j    ],\n",
        "        [ -1.2242+0.j    ,  -4.8651+0.j    ],\n",
        "        [ -8.5494-0.j    ,  13.4338+0.j    ],\n",
        "        [-10.2742-0.j    ,  16.1438+0.j    ],\n",
        "        [  1.9946+0.j    ,  -2.9768+0.j    ]])"
       ]
      }
     ],
     "prompt_number": 85
    },
    {
     "cell_type": "code",
     "collapsed": false,
     "input": [
      "Cd = C*M"
     ],
     "language": "python",
     "metadata": {},
     "outputs": [],
     "prompt_number": 86
    },
    {
     "cell_type": "code",
     "collapsed": false,
     "input": [
      "Cd"
     ],
     "language": "python",
     "metadata": {},
     "outputs": [
      {
       "metadata": {},
       "output_type": "pyout",
       "prompt_number": 87,
       "text": [
        "matrix([[ 0.0876+0.j    ,  0.0000+0.j    ,  1.7937+0.j    ,  0.0000+0.j    ,\n",
        "          0.0000+0.j    ,  0.0000+0.j    , -7.7564+0.j    ,  0.3571+0.j    ,\n",
        "          0.0000+0.j    ,  0.0000+0.j    ,  0.0000+0.j    , -1.2724+0.j    ],\n",
        "        [ 0.0000+0.j    ,  4.4237+0.j    ,  0.0000+0.j    , -7.4695+3.2554j,\n",
        "         -7.4695-3.2554j, -2.8504+0.j    ,  0.0000+0.j    ,  0.0000+0.j    ,\n",
        "         -1.7478+0.j    ,  0.4833+0.j    , -0.4412+0.j    ,  0.0000+0.j    ]])"
       ]
      }
     ],
     "prompt_number": 87
    },
    {
     "cell_type": "code",
     "collapsed": false,
     "input": [
      "# Keep 6 eigenvalues/poles because 3rd and 4th are complex conjugate pair"
     ],
     "language": "python",
     "metadata": {},
     "outputs": []
    },
    {
     "cell_type": "code",
     "collapsed": false,
     "input": [
      "# and need 1 more for gamma (ratio of states to inputs) to be an integer."
     ],
     "language": "python",
     "metadata": {},
     "outputs": []
    },
    {
     "cell_type": "code",
     "collapsed": false,
     "input": [
      "A11 = Ad[0:6,0:6]"
     ],
     "language": "python",
     "metadata": {},
     "outputs": [],
     "prompt_number": 91
    },
    {
     "cell_type": "code",
     "collapsed": false,
     "input": [
      "A11"
     ],
     "language": "python",
     "metadata": {},
     "outputs": [
      {
       "metadata": {},
       "output_type": "pyout",
       "prompt_number": 92,
       "text": [
        "matrix([[-0.2164+0.j    ,  0.0000+0.j    ,  0.0000+0.j    ,  0.0000+0.j    ,\n",
        "          0.0000+0.j    ,  0.0000+0.j    ],\n",
        "        [ 0.0000+0.j    , -0.2172+0.j    ,  0.0000+0.j    ,  0.0000+0.j    ,\n",
        "          0.0000+0.j    ,  0.0000+0.j    ],\n",
        "        [ 0.0000+0.j    ,  0.0000+0.j    , -0.2172+0.j    ,  0.0000+0.j    ,\n",
        "          0.0000+0.j    ,  0.0000+0.j    ],\n",
        "        [ 0.0000+0.j    ,  0.0000+0.j    ,  0.0000+0.j    , -0.3700+1.3226j,\n",
        "         -0.0000-0.j    ,  0.0000+0.j    ],\n",
        "        [ 0.0000+0.j    ,  0.0000+0.j    ,  0.0000+0.j    ,  0.0000-0.j    ,\n",
        "         -0.3700-1.3226j,  0.0000+0.j    ],\n",
        "        [ 0.0000+0.j    , -0.0000+0.j    ,  0.0000+0.j    ,  0.0000+0.j    ,\n",
        "          0.0000+0.j    , -0.9325+0.j    ]])"
       ]
      }
     ],
     "prompt_number": 92
    },
    {
     "cell_type": "code",
     "collapsed": false,
     "input": [
      "A12 = Ad[0:6,6:12]"
     ],
     "language": "python",
     "metadata": {},
     "outputs": [],
     "prompt_number": 93
    },
    {
     "cell_type": "code",
     "collapsed": false,
     "input": [
      "A12"
     ],
     "language": "python",
     "metadata": {},
     "outputs": [
      {
       "metadata": {},
       "output_type": "pyout",
       "prompt_number": 94,
       "text": [
        "matrix([[ 0.+0.j, -0.+0.j,  0.+0.j,  0.+0.j,  0.+0.j,  0.+0.j],\n",
        "        [ 0.+0.j,  0.+0.j, -0.+0.j,  0.+0.j,  0.+0.j,  0.+0.j],\n",
        "        [ 0.+0.j,  0.+0.j,  0.+0.j,  0.+0.j,  0.+0.j,  0.+0.j],\n",
        "        [ 0.+0.j,  0.+0.j,  0.+0.j, -0.-0.j,  0.+0.j,  0.+0.j],\n",
        "        [ 0.+0.j,  0.+0.j,  0.+0.j, -0.+0.j,  0.-0.j,  0.+0.j],\n",
        "        [ 0.+0.j,  0.+0.j, -0.+0.j,  0.+0.j,  0.+0.j,  0.+0.j]])"
       ]
      }
     ],
     "prompt_number": 94
    },
    {
     "cell_type": "code",
     "collapsed": false,
     "input": [
      "A21 = Ad[6:12,0:6]"
     ],
     "language": "python",
     "metadata": {},
     "outputs": [],
     "prompt_number": 95
    },
    {
     "cell_type": "code",
     "collapsed": false,
     "input": [
      "A21"
     ],
     "language": "python",
     "metadata": {},
     "outputs": [
      {
       "metadata": {},
       "output_type": "pyout",
       "prompt_number": 96,
       "text": [
        "matrix([[ 0.+0.j,  0.+0.j, -0.+0.j,  0.+0.j,  0.+0.j,  0.+0.j],\n",
        "        [ 0.+0.j,  0.+0.j,  0.+0.j,  0.+0.j,  0.+0.j,  0.+0.j],\n",
        "        [ 0.+0.j,  0.+0.j,  0.+0.j,  0.+0.j,  0.+0.j, -0.+0.j],\n",
        "        [ 0.+0.j,  0.+0.j,  0.+0.j,  0.-0.j,  0.+0.j,  0.+0.j],\n",
        "        [ 0.+0.j,  0.+0.j,  0.+0.j,  0.-0.j, -0.+0.j,  0.+0.j],\n",
        "        [ 0.+0.j,  0.+0.j, -0.+0.j,  0.+0.j,  0.+0.j,  0.+0.j]])"
       ]
      }
     ],
     "prompt_number": 96
    },
    {
     "cell_type": "code",
     "collapsed": false,
     "input": [
      "A22 = Ad[6:12,6:12]"
     ],
     "language": "python",
     "metadata": {},
     "outputs": [],
     "prompt_number": 97
    },
    {
     "cell_type": "code",
     "collapsed": false,
     "input": [
      "A22"
     ],
     "language": "python",
     "metadata": {},
     "outputs": [
      {
       "metadata": {},
       "output_type": "pyout",
       "prompt_number": 98,
       "text": [
        "matrix([[ -0.9328+0.j,   0.0000+0.j,   0.0000+0.j,   0.0000+0.j,\n",
        "           0.0000+0.j,   0.0000+0.j],\n",
        "        [  0.0000+0.j,  -0.9336+0.j,   0.0000+0.j,   0.0000+0.j,\n",
        "           0.0000+0.j,   0.0000+0.j],\n",
        "        [  0.0000+0.j,   0.0000+0.j,  -8.0004+0.j,   0.0000+0.j,\n",
        "           0.0000+0.j,   0.0000+0.j],\n",
        "        [  0.0000+0.j,   0.0000+0.j,   0.0000+0.j,  -9.0644-0.j,\n",
        "          -0.0000+0.j,   0.0000+0.j],\n",
        "        [  0.0000+0.j,   0.0000+0.j,   0.0000+0.j,   0.0000-0.j,\n",
        "         -10.9955+0.j,   0.0000+0.j],\n",
        "        [  0.0000+0.j,   0.0000+0.j,   0.0000+0.j,   0.0000+0.j,\n",
        "           0.0000+0.j, -11.6500+0.j]])"
       ]
      }
     ],
     "prompt_number": 98
    },
    {
     "cell_type": "code",
     "collapsed": false,
     "input": [
      "B1 = Bd[0:6,0:2]"
     ],
     "language": "python",
     "metadata": {},
     "outputs": [],
     "prompt_number": 99
    },
    {
     "cell_type": "code",
     "collapsed": false,
     "input": [
      "B1"
     ],
     "language": "python",
     "metadata": {},
     "outputs": [
      {
       "metadata": {},
       "output_type": "pyout",
       "prompt_number": 100,
       "text": [
        "matrix([[ 1.4890+0.j    ,  5.9176+0.j    ],\n",
        "        [ 0.1921+0.j    ,  0.7633+0.j    ],\n",
        "        [-0.2246+0.j    ,  0.3352+0.j    ],\n",
        "        [ 0.0212+0.0128j, -0.0334-0.0202j],\n",
        "        [ 0.0212-0.0128j, -0.0334+0.0202j],\n",
        "        [ 0.3346+0.j    ,  1.3296+0.j    ]])"
       ]
      }
     ],
     "prompt_number": 100
    },
    {
     "cell_type": "code",
     "collapsed": false,
     "input": [
      "B2 = Bd[6:12,0:2]"
     ],
     "language": "python",
     "metadata": {},
     "outputs": [],
     "prompt_number": 101
    },
    {
     "cell_type": "code",
     "collapsed": false,
     "input": [
      "B2"
     ],
     "language": "python",
     "metadata": {},
     "outputs": [
      {
       "metadata": {},
       "output_type": "pyout",
       "prompt_number": 102,
       "text": [
        "matrix([[ -0.3791+0.j,   0.5658+0.j],\n",
        "        [  1.9911+0.j,   7.9127+0.j],\n",
        "        [ -1.2242+0.j,  -4.8651+0.j],\n",
        "        [ -8.5494-0.j,  13.4338+0.j],\n",
        "        [-10.2742-0.j,  16.1438+0.j],\n",
        "        [  1.9946+0.j,  -2.9768+0.j]])"
       ]
      }
     ],
     "prompt_number": 102
    },
    {
     "cell_type": "code",
     "collapsed": false,
     "input": [
      "C1 = Cd[0:2,0:6]"
     ],
     "language": "python",
     "metadata": {},
     "outputs": [],
     "prompt_number": 103
    },
    {
     "cell_type": "code",
     "collapsed": false,
     "input": [
      "C1"
     ],
     "language": "python",
     "metadata": {},
     "outputs": [
      {
       "metadata": {},
       "output_type": "pyout",
       "prompt_number": 104,
       "text": [
        "matrix([[ 0.0876+0.j    ,  0.0000+0.j    ,  1.7937+0.j    ,  0.0000+0.j    ,\n",
        "          0.0000+0.j    ,  0.0000+0.j    ],\n",
        "        [ 0.0000+0.j    ,  4.4237+0.j    ,  0.0000+0.j    , -7.4695+3.2554j,\n",
        "         -7.4695-3.2554j, -2.8504+0.j    ]])"
       ]
      }
     ],
     "prompt_number": 104
    },
    {
     "cell_type": "code",
     "collapsed": false,
     "input": [
      "C2 = Cd[0:2,6:12]"
     ],
     "language": "python",
     "metadata": {},
     "outputs": [],
     "prompt_number": 105
    },
    {
     "cell_type": "code",
     "collapsed": false,
     "input": [
      "C2"
     ],
     "language": "python",
     "metadata": {},
     "outputs": [
      {
       "metadata": {},
       "output_type": "pyout",
       "prompt_number": 106,
       "text": [
        "matrix([[-7.7564+0.j,  0.3571+0.j,  0.0000+0.j,  0.0000+0.j,  0.0000+0.j,\n",
        "         -1.2724+0.j],\n",
        "        [ 0.0000+0.j,  0.0000+0.j, -1.7478+0.j,  0.4833+0.j, -0.4412+0.j,\n",
        "          0.0000+0.j]])"
       ]
      }
     ],
     "prompt_number": 106
    },
    {
     "cell_type": "code",
     "collapsed": false,
     "input": [
      "Ar = A11 - A12*np.linalg.inv(A22)*A21"
     ],
     "language": "python",
     "metadata": {},
     "outputs": [],
     "prompt_number": 107
    },
    {
     "cell_type": "code",
     "collapsed": false,
     "input": [
      "Ar"
     ],
     "language": "python",
     "metadata": {},
     "outputs": [
      {
       "metadata": {},
       "output_type": "pyout",
       "prompt_number": 108,
       "text": [
        "matrix([[-0.2164+0.j    ,  0.0000+0.j    ,  0.0000+0.j    ,  0.0000+0.j    ,\n",
        "          0.0000+0.j    ,  0.0000+0.j    ],\n",
        "        [ 0.0000+0.j    , -0.2172+0.j    ,  0.0000+0.j    ,  0.0000+0.j    ,\n",
        "          0.0000+0.j    ,  0.0000+0.j    ],\n",
        "        [ 0.0000+0.j    ,  0.0000+0.j    , -0.2172+0.j    ,  0.0000+0.j    ,\n",
        "          0.0000+0.j    ,  0.0000+0.j    ],\n",
        "        [ 0.0000+0.j    ,  0.0000+0.j    ,  0.0000+0.j    , -0.3700+1.3226j,\n",
        "         -0.0000-0.j    ,  0.0000+0.j    ],\n",
        "        [ 0.0000+0.j    ,  0.0000+0.j    ,  0.0000+0.j    ,  0.0000-0.j    ,\n",
        "         -0.3700-1.3226j,  0.0000+0.j    ],\n",
        "        [ 0.0000+0.j    , -0.0000+0.j    ,  0.0000+0.j    ,  0.0000+0.j    ,\n",
        "          0.0000+0.j    , -0.9325+0.j    ]])"
       ]
      }
     ],
     "prompt_number": 108
    },
    {
     "cell_type": "code",
     "collapsed": false,
     "input": [
      "Br = B1 - A12*np.linalg.inv(A22)*B2"
     ],
     "language": "python",
     "metadata": {},
     "outputs": [],
     "prompt_number": 109
    },
    {
     "cell_type": "code",
     "collapsed": false,
     "input": [
      "Br"
     ],
     "language": "python",
     "metadata": {},
     "outputs": [
      {
       "metadata": {},
       "output_type": "pyout",
       "prompt_number": 110,
       "text": [
        "matrix([[ 1.4890+0.j    ,  5.9176+0.j    ],\n",
        "        [ 0.1921+0.j    ,  0.7633+0.j    ],\n",
        "        [-0.2246+0.j    ,  0.3352+0.j    ],\n",
        "        [ 0.0212+0.0128j, -0.0334-0.0202j],\n",
        "        [ 0.0212-0.0128j, -0.0334+0.0202j],\n",
        "        [ 0.3346+0.j    ,  1.3296+0.j    ]])"
       ]
      }
     ],
     "prompt_number": 110
    },
    {
     "cell_type": "code",
     "collapsed": false,
     "input": [
      "Cr = C1 - C2*np.linalg.inv(A22)*A21"
     ],
     "language": "python",
     "metadata": {},
     "outputs": [],
     "prompt_number": 111
    },
    {
     "cell_type": "code",
     "collapsed": false,
     "input": [
      "Cr"
     ],
     "language": "python",
     "metadata": {},
     "outputs": [
      {
       "metadata": {},
       "output_type": "pyout",
       "prompt_number": 112,
       "text": [
        "matrix([[ 0.0876+0.j    ,  0.0000+0.j    ,  1.7937+0.j    ,  0.0000+0.j    ,\n",
        "          0.0000+0.j    ,  0.0000+0.j    ],\n",
        "        [ 0.0000+0.j    ,  4.4237+0.j    ,  0.0000+0.j    , -7.4695+3.2554j,\n",
        "         -7.4695-3.2554j, -2.8504+0.j    ]])"
       ]
      }
     ],
     "prompt_number": 112
    },
    {
     "cell_type": "code",
     "collapsed": false,
     "input": [
      "Dr = D - C2*np.linalg.inv(A22)*B2"
     ],
     "language": "python",
     "metadata": {},
     "outputs": [],
     "prompt_number": 113
    },
    {
     "cell_type": "code",
     "collapsed": false,
     "input": [
      "Dr"
     ],
     "language": "python",
     "metadata": {},
     "outputs": [
      {
       "metadata": {},
       "output_type": "pyout",
       "prompt_number": 114,
       "text": [
        "matrix([[ 3.6961+0.j, -1.3536+0.j],\n",
        "        [ 0.2238-0.j,  1.1313+0.j]])"
       ]
      }
     ],
     "prompt_number": 114
    },
    {
     "cell_type": "code",
     "collapsed": false,
     "input": [
      "np.savetxt('Ar_cp1.csv', Ar, delimiter=',')"
     ],
     "language": "python",
     "metadata": {},
     "outputs": [],
     "prompt_number": 115
    },
    {
     "cell_type": "code",
     "collapsed": false,
     "input": [
      "np.savetxt('Br_cp1.csv', Br, delimiter=',')"
     ],
     "language": "python",
     "metadata": {},
     "outputs": [],
     "prompt_number": 116
    },
    {
     "cell_type": "code",
     "collapsed": false,
     "input": [
      "np.savetxt('Cr_cp1.csv', Cr, delimiter=',')"
     ],
     "language": "python",
     "metadata": {},
     "outputs": [],
     "prompt_number": 117
    },
    {
     "cell_type": "code",
     "collapsed": false,
     "input": [
      "np.savetxt('Dr_cp1.csv', Dr, delimiter=',')"
     ],
     "language": "python",
     "metadata": {},
     "outputs": [],
     "prompt_number": 118
    },
    {
     "cell_type": "code",
     "collapsed": false,
     "input": [
      "# The reduced model from residualization is 6x6."
     ],
     "language": "python",
     "metadata": {},
     "outputs": [],
     "prompt_number": 119
    },
    {
     "cell_type": "code",
     "collapsed": false,
     "input": [
      "# Therefore, the second Cauer method will be applied again."
     ],
     "language": "python",
     "metadata": {},
     "outputs": [],
     "prompt_number": 120
    },
    {
     "cell_type": "code",
     "collapsed": false,
     "input": [
      "# Apply second Cauer method to reduced model from residualization:"
     ],
     "language": "python",
     "metadata": {},
     "outputs": []
    },
    {
     "cell_type": "code",
     "collapsed": false,
     "input": [
      "gamma = 6/2"
     ],
     "language": "python",
     "metadata": {},
     "outputs": [],
     "prompt_number": 121
    },
    {
     "cell_type": "code",
     "collapsed": false,
     "input": [
      "gamma"
     ],
     "language": "python",
     "metadata": {},
     "outputs": [
      {
       "latex": [
        "$$3.0$$"
       ],
       "metadata": {},
       "output_type": "pyout",
       "prompt_number": 122,
       "text": [
        "3.0"
       ]
      }
     ],
     "prompt_number": 122
    },
    {
     "cell_type": "code",
     "collapsed": false,
     "input": [
      "# gamma is an integer."
     ],
     "language": "python",
     "metadata": {},
     "outputs": [],
     "prompt_number": 123
    },
    {
     "cell_type": "code",
     "collapsed": false,
     "input": [
      "Bc = np.matrix([[0,0],\n",
      "                [0,0],\n",
      "                [0,0],\n",
      "                [0,0],\n",
      "                [1,0],\n",
      "                [0,1]])"
     ],
     "language": "python",
     "metadata": {},
     "outputs": [],
     "prompt_number": 124
    },
    {
     "cell_type": "code",
     "collapsed": false,
     "input": [
      "Bc"
     ],
     "language": "python",
     "metadata": {},
     "outputs": [
      {
       "metadata": {},
       "output_type": "pyout",
       "prompt_number": 125,
       "text": [
        "matrix([[0, 0],\n",
        "        [0, 0],\n",
        "        [0, 0],\n",
        "        [0, 0],\n",
        "        [1, 0],\n",
        "        [0, 1]])"
       ]
      }
     ],
     "prompt_number": 125
    },
    {
     "cell_type": "code",
     "collapsed": false,
     "input": [
      "Tc1 = (Bc.T)*np.linalg.inv(np.concatenate(\n",
      "(Br,Ar*Br,(Ar**2)*Br),1))"
     ],
     "language": "python",
     "metadata": {},
     "outputs": [],
     "prompt_number": 132
    },
    {
     "cell_type": "code",
     "collapsed": false,
     "input": [
      "Tc1"
     ],
     "language": "python",
     "metadata": {},
     "outputs": [
      {
       "metadata": {},
       "output_type": "pyout",
       "prompt_number": 133,
       "text": [
        "matrix([[  334.1623+0.j    , -2593.5049+0.j    ,    -1.8259+0.j    ,\n",
        "            -6.4853+5.0194j,    -6.4853-5.0194j,     1.6533+0.j    ],\n",
        "        [  212.6657+0.j    , -1650.5170-0.j    ,     0.4594-0.j    ,\n",
        "             1.6319-1.263j ,     1.6319+1.263j ,     1.0522-0.j    ]])"
       ]
      }
     ],
     "prompt_number": 133
    },
    {
     "cell_type": "code",
     "collapsed": false,
     "input": [
      "Tc = np.concatenate((Tc1,Tc1*Ar,Tc1*(Ar**2)),0)"
     ],
     "language": "python",
     "metadata": {},
     "outputs": [],
     "prompt_number": 135
    },
    {
     "cell_type": "code",
     "collapsed": false,
     "input": [
      "Tc"
     ],
     "language": "python",
     "metadata": {},
     "outputs": [
      {
       "metadata": {},
       "output_type": "pyout",
       "prompt_number": 136,
       "text": [
        "matrix([[  334.1623 +0.j    , -2593.5049 +0.j    ,    -1.8259 +0.j    ,\n",
        "            -6.4853 +5.0194j,    -6.4853 -5.0194j,     1.6533 +0.j    ],\n",
        "        [  212.6657 +0.j    , -1650.5170 -0.j    ,     0.4594 -0.j    ,\n",
        "             1.6319 -1.263j ,     1.6319 +1.263j ,     1.0522 -0.j    ],\n",
        "        [  -72.2983 +0.j    ,   563.1846 -0.j    ,     0.3965 -0.j    ,\n",
        "            -4.2390-10.435j ,    -4.2390+10.435j ,    -1.5417 -0.j    ],\n",
        "        [  -46.0117 -0.j    ,   358.4129 +0.j    ,    -0.0998 +0.j    ,\n",
        "             1.0667 +2.6257j,     1.0667 -2.6257j,    -0.9811 +0.j    ],\n",
        "        [   15.6422 +0.j    ,  -122.2966 +0.j    ,    -0.0861 +0.j    ,\n",
        "            15.3701 -1.7453j,    15.3701 +1.7453j,     1.4376 +0.j    ],\n",
        "        [    9.9549 +0.j    ,   -77.8301 -0.j    ,     0.0217 -0.j    ,\n",
        "            -3.8675 +0.4392j,    -3.8675 -0.4392j,     0.9149 -0.j    ]])"
       ]
      }
     ],
     "prompt_number": 136
    },
    {
     "cell_type": "code",
     "collapsed": false,
     "input": [
      "Tc_inv = np.linalg.inv(Tc)"
     ],
     "language": "python",
     "metadata": {},
     "outputs": [],
     "prompt_number": 137
    },
    {
     "cell_type": "code",
     "collapsed": false,
     "input": [
      "Tc_inv"
     ],
     "language": "python",
     "metadata": {},
     "outputs": [
      {
       "metadata": {},
       "output_type": "pyout",
       "prompt_number": 138,
       "text": [
        "matrix([[ 0.3015-0.j    ,  1.1983+0.j    ,  1.7118-0.j    ,  6.8030+0.j    ,\n",
        "          1.4890-0.j    ,  5.9176+0.j    ],\n",
        "        [ 0.0387-0.j    ,  0.1540+0.j    ,  0.2207-0.j    ,  0.8769+0.j    ,\n",
        "          0.1921-0.j    ,  0.7633+0.j    ],\n",
        "        [-0.4183-0.j    ,  0.6537+0.j    , -0.1675+0.j    ,  0.2429-0.j    ,\n",
        "         -0.2246+0.j    ,  0.3352+0.j    ],\n",
        "        [-0.0020+0.0071j,  0.0031-0.0112j, -0.0045+0.0356j,  0.0071-0.056j ,\n",
        "          0.0212+0.0128j, -0.0334-0.0202j],\n",
        "        [-0.0020-0.0071j,  0.0031+0.0112j, -0.0045-0.0356j,  0.0071+0.056j ,\n",
        "          0.0212-0.0128j, -0.0334+0.0202j],\n",
        "        [ 0.0157-0.j    ,  0.0625+0.j    ,  0.1450-0.j    ,  0.5764+0.j    ,\n",
        "          0.3346-0.j    ,  1.3296+0.j    ]])"
       ]
      }
     ],
     "prompt_number": 138
    },
    {
     "cell_type": "code",
     "collapsed": false,
     "input": [
      "Arc = Tc*Ar*Tc_inv"
     ],
     "language": "python",
     "metadata": {},
     "outputs": [],
     "prompt_number": 139
    },
    {
     "cell_type": "code",
     "collapsed": false,
     "input": [
      "Arc"
     ],
     "language": "python",
     "metadata": {},
     "outputs": [
      {
       "metadata": {},
       "output_type": "pyout",
       "prompt_number": 140,
       "text": [
        "matrix([[ 0.0000+0.j, -0.0000-0.j,  1.0000-0.j,  0.0000+0.j, -0.0000-0.j,\n",
        "         -0.0000+0.j],\n",
        "        [ 0.0000-0.j, -0.0000+0.j,  0.0000-0.j,  1.0000+0.j, -0.0000-0.j,\n",
        "         -0.0000+0.j],\n",
        "        [-0.0000+0.j,  0.0000-0.j,  0.0000+0.j,  0.0000-0.j,  1.0000+0.j,\n",
        "          0.0000-0.j],\n",
        "        [ 0.0000+0.j,  0.0000+0.j,  0.0000-0.j,  0.0000+0.j,  0.0000-0.j,\n",
        "          1.0000-0.j],\n",
        "        [-0.3060-0.j,  0.4119+0.j, -1.5948-0.j,  1.7969+0.j, -1.0731+0.j,\n",
        "         -0.4603-0.j],\n",
        "        [ 0.0660+0.j, -0.1475-0.j,  0.2878+0.j, -0.9034-0.j, -0.0737-0.j,\n",
        "         -1.2502+0.j]])"
       ]
      }
     ],
     "prompt_number": 140
    },
    {
     "cell_type": "code",
     "collapsed": false,
     "input": [
      "Brc_verify = Tc*Br"
     ],
     "language": "python",
     "metadata": {},
     "outputs": [],
     "prompt_number": 141
    },
    {
     "cell_type": "code",
     "collapsed": false,
     "input": [
      "Brc_verify"
     ],
     "language": "python",
     "metadata": {},
     "outputs": [
      {
       "metadata": {},
       "output_type": "pyout",
       "prompt_number": 143,
       "text": [
        "matrix([[ 0.+0.j,  0.+0.j],\n",
        "        [-0.-0.j, -0.+0.j],\n",
        "        [-0.-0.j, -0.-0.j],\n",
        "        [-0.+0.j, -0.+0.j],\n",
        "        [ 1.+0.j, -0.-0.j],\n",
        "        [-0.-0.j,  1.-0.j]])"
       ]
      }
     ],
     "prompt_number": 143
    },
    {
     "cell_type": "code",
     "collapsed": false,
     "input": [
      "Crc = Cr*Tc_inv"
     ],
     "language": "python",
     "metadata": {},
     "outputs": [],
     "prompt_number": 144
    },
    {
     "cell_type": "code",
     "collapsed": false,
     "input": [
      "Crc"
     ],
     "language": "python",
     "metadata": {},
     "outputs": [
      {
       "metadata": {},
       "output_type": "pyout",
       "prompt_number": 145,
       "text": [
        "matrix([[-0.7239-0.j,  1.2775+0.j, -0.1506+0.j,  1.0316-0.j, -0.2724+0.j,\n",
        "          1.1196+0.j],\n",
        "        [ 0.1098-0.j,  0.5297+0.j,  0.3981-0.j,  2.4950+0.j, -0.5048+0.j,\n",
        "          0.2165+0.j]])"
       ]
      }
     ],
     "prompt_number": 145
    },
    {
     "cell_type": "code",
     "collapsed": false,
     "input": [
      "# With the controller-type block companion form, the right MFD is obtained."
     ],
     "language": "python",
     "metadata": {},
     "outputs": []
    },
    {
     "cell_type": "code",
     "collapsed": false,
     "input": [
      "Ar11 = Arc[4:6,0:2]"
     ],
     "language": "python",
     "metadata": {},
     "outputs": [],
     "prompt_number": 154
    },
    {
     "cell_type": "code",
     "collapsed": false,
     "input": [
      "Ar11"
     ],
     "language": "python",
     "metadata": {},
     "outputs": [
      {
       "metadata": {},
       "output_type": "pyout",
       "prompt_number": 155,
       "text": [
        "matrix([[-0.3060-0.j,  0.4119+0.j],\n",
        "        [ 0.0660+0.j, -0.1475-0.j]])"
       ]
      }
     ],
     "prompt_number": 155
    },
    {
     "cell_type": "code",
     "collapsed": false,
     "input": [
      "Ar12 = Arc[4:6,2:4]"
     ],
     "language": "python",
     "metadata": {},
     "outputs": [],
     "prompt_number": 156
    },
    {
     "cell_type": "code",
     "collapsed": false,
     "input": [
      "Ar12"
     ],
     "language": "python",
     "metadata": {},
     "outputs": [
      {
       "metadata": {},
       "output_type": "pyout",
       "prompt_number": 157,
       "text": [
        "matrix([[-1.5948-0.j,  1.7969+0.j],\n",
        "        [ 0.2878+0.j, -0.9034-0.j]])"
       ]
      }
     ],
     "prompt_number": 157
    },
    {
     "cell_type": "code",
     "collapsed": false,
     "input": [
      "Ar13 = Arc[4:6,4:6]"
     ],
     "language": "python",
     "metadata": {},
     "outputs": [],
     "prompt_number": 158
    },
    {
     "cell_type": "code",
     "collapsed": false,
     "input": [
      "Ar13"
     ],
     "language": "python",
     "metadata": {},
     "outputs": [
      {
       "metadata": {},
       "output_type": "pyout",
       "prompt_number": 159,
       "text": [
        "matrix([[-1.0731+0.j, -0.4603-0.j],\n",
        "        [-0.0737-0.j, -1.2502+0.j]])"
       ]
      }
     ],
     "prompt_number": 159
    },
    {
     "cell_type": "code",
     "collapsed": false,
     "input": [
      "Ar14 = np.identity(2)"
     ],
     "language": "python",
     "metadata": {},
     "outputs": [],
     "prompt_number": 160
    },
    {
     "cell_type": "code",
     "collapsed": false,
     "input": [
      "Ar14"
     ],
     "language": "python",
     "metadata": {},
     "outputs": [
      {
       "metadata": {},
       "output_type": "pyout",
       "prompt_number": 161,
       "text": [
        "array([[ 1.,  0.],\n",
        "       [ 0.,  1.]])"
       ]
      }
     ],
     "prompt_number": 161
    },
    {
     "cell_type": "code",
     "collapsed": false,
     "input": [
      "Ar21 = Crc[0:2,0:2]"
     ],
     "language": "python",
     "metadata": {},
     "outputs": [],
     "prompt_number": 162
    },
    {
     "cell_type": "code",
     "collapsed": false,
     "input": [
      "Ar21"
     ],
     "language": "python",
     "metadata": {},
     "outputs": [
      {
       "metadata": {},
       "output_type": "pyout",
       "prompt_number": 163,
       "text": [
        "matrix([[-0.7239-0.j,  1.2775+0.j],\n",
        "        [ 0.1098-0.j,  0.5297+0.j]])"
       ]
      }
     ],
     "prompt_number": 163
    },
    {
     "cell_type": "code",
     "collapsed": false,
     "input": [
      "Ar22 = Crc[0:2,2:4]"
     ],
     "language": "python",
     "metadata": {},
     "outputs": [],
     "prompt_number": 164
    },
    {
     "cell_type": "code",
     "collapsed": false,
     "input": [
      "Ar22"
     ],
     "language": "python",
     "metadata": {},
     "outputs": [
      {
       "metadata": {},
       "output_type": "pyout",
       "prompt_number": 165,
       "text": [
        "matrix([[-0.1506+0.j,  1.0316-0.j],\n",
        "        [ 0.3981-0.j,  2.4950+0.j]])"
       ]
      }
     ],
     "prompt_number": 165
    },
    {
     "cell_type": "code",
     "collapsed": false,
     "input": [
      "Ar23 = Crc[0:2,4:6]"
     ],
     "language": "python",
     "metadata": {},
     "outputs": [],
     "prompt_number": 166
    },
    {
     "cell_type": "code",
     "collapsed": false,
     "input": [
      "Ar23"
     ],
     "language": "python",
     "metadata": {},
     "outputs": [
      {
       "metadata": {},
       "output_type": "pyout",
       "prompt_number": 167,
       "text": [
        "matrix([[-0.2724+0.j,  1.1196+0.j],\n",
        "        [-0.5048+0.j,  0.2165+0.j]])"
       ]
      }
     ],
     "prompt_number": 167
    },
    {
     "cell_type": "code",
     "collapsed": false,
     "input": [
      "# Model reduction using second Cauer method:"
     ],
     "language": "python",
     "metadata": {},
     "outputs": []
    },
    {
     "cell_type": "code",
     "collapsed": false,
     "input": [
      "# order of 2nd Cauer reduced model"
     ],
     "language": "python",
     "metadata": {},
     "outputs": [],
     "prompt_number": 168
    },
    {
     "cell_type": "code",
     "collapsed": false,
     "input": [
      "order = 2"
     ],
     "language": "python",
     "metadata": {},
     "outputs": [],
     "prompt_number": 169
    },
    {
     "cell_type": "code",
     "collapsed": false,
     "input": [
      "order"
     ],
     "language": "python",
     "metadata": {},
     "outputs": [
      {
       "latex": [
        "$$2$$"
       ],
       "metadata": {},
       "output_type": "pyout",
       "prompt_number": 170,
       "text": [
        "2"
       ]
      }
     ],
     "prompt_number": 170
    },
    {
     "cell_type": "code",
     "collapsed": false,
     "input": [
      "n_end = gamma + 1"
     ],
     "language": "python",
     "metadata": {},
     "outputs": [],
     "prompt_number": 171
    },
    {
     "cell_type": "code",
     "collapsed": false,
     "input": [
      "n_end"
     ],
     "language": "python",
     "metadata": {},
     "outputs": [
      {
       "latex": [
        "$$4.0$$"
       ],
       "metadata": {},
       "output_type": "pyout",
       "prompt_number": 172,
       "text": [
        "4.0"
       ]
      }
     ],
     "prompt_number": 172
    },
    {
     "cell_type": "code",
     "collapsed": false,
     "input": [
      "q = 1"
     ],
     "language": "python",
     "metadata": {},
     "outputs": [],
     "prompt_number": 173
    },
    {
     "cell_type": "code",
     "collapsed": false,
     "input": [
      "q"
     ],
     "language": "python",
     "metadata": {},
     "outputs": [
      {
       "latex": [
        "$$1$$"
       ],
       "metadata": {},
       "output_type": "pyout",
       "prompt_number": 174,
       "text": [
        "1"
       ]
      }
     ],
     "prompt_number": 174
    },
    {
     "cell_type": "code",
     "collapsed": false,
     "input": [
      "for m in np.linspace(1,order*2,order*2):\n",
      "    exec(\"Hr%d = (Ar%d%d)*np.linalg.inv(Ar%d%d)\" %(m,m,1,m+1,1))\n",
      "    exec(\"Ar%d%d = np.zeros((2,2))\" %(m+1,n_end))\n",
      "    \n",
      "    for n in np.linspace(1,n_end-1,n_end-1):\n",
      "        exec(\"Ar%d%d = (Ar%d%d) - (Hr%d)*(Ar%d%d)\" %(m+2,n,m,n+1,m,m+1,n+1))\n",
      "        \n",
      "        \n",
      "    if (np.equal(q,1)):\n",
      "        q = 0\n",
      "        n_end = n_end - 1\n",
      "        \n",
      "    q = q+1"
     ],
     "language": "python",
     "metadata": {},
     "outputs": [],
     "prompt_number": 175
    },
    {
     "cell_type": "code",
     "collapsed": false,
     "input": [
      "Hr1"
     ],
     "language": "python",
     "metadata": {},
     "outputs": [
      {
       "metadata": {},
       "output_type": "pyout",
       "prompt_number": 176,
       "text": [
        "matrix([[ 0.3959+0.j, -0.1770-0.j],\n",
        "        [-0.0976-0.j, -0.0429+0.j]])"
       ]
      }
     ],
     "prompt_number": 176
    },
    {
     "cell_type": "code",
     "collapsed": false,
     "input": [
      "Hr2"
     ],
     "language": "python",
     "metadata": {},
     "outputs": [
      {
       "metadata": {},
       "output_type": "pyout",
       "prompt_number": 177,
       "text": [
        "matrix([[ 0.2723-0.j, -1.1200+0.j],\n",
        "        [-0.4715-0.j, -2.0022-0.j]])"
       ]
      }
     ],
     "prompt_number": 177
    },
    {
     "cell_type": "code",
     "collapsed": false,
     "input": [
      "Hr3"
     ],
     "language": "python",
     "metadata": {},
     "outputs": [
      {
       "metadata": {},
       "output_type": "pyout",
       "prompt_number": 178,
       "text": [
        "matrix([[-15926.4016-0.j,      3.2082-0.j],\n",
        "        [  5201.2473+0.j,     -0.4997+0.j]])"
       ]
      }
     ],
     "prompt_number": 178
    },
    {
     "cell_type": "code",
     "collapsed": false,
     "input": [
      "Hr4"
     ],
     "language": "python",
     "metadata": {},
     "outputs": [
      {
       "metadata": {},
       "output_type": "pyout",
       "prompt_number": 179,
       "text": [
        "matrix([[-0.0000-0.j,  0.0002-0.j],\n",
        "        [ 0.3372+0.j, -0.1000-0.j]])"
       ]
      }
     ],
     "prompt_number": 179
    },
    {
     "cell_type": "code",
     "collapsed": false,
     "input": [
      "Ar_hat = -1*np.concatenate((np.concatenate((Hr1*Hr2,Hr1*Hr4),1),\n",
      "                           np.concatenate((Hr1*Hr2,(Hr1+Hr3)*Hr4),1)),0)"
     ],
     "language": "python",
     "metadata": {},
     "outputs": [],
     "prompt_number": 180
    },
    {
     "cell_type": "code",
     "collapsed": false,
     "input": [
      "Ar_hat"
     ],
     "language": "python",
     "metadata": {},
     "outputs": [
      {
       "metadata": {},
       "output_type": "pyout",
       "prompt_number": 181,
       "text": [
        "matrix([[-0.1913-0.j,  0.0890-0.j,  0.0597+0.j, -0.0178-0.j],\n",
        "        [ 0.0064+0.j, -0.1953+0.j,  0.0145+0.j, -0.0043-0.j],\n",
        "        [-0.1913-0.j,  0.0890-0.j, -1.6693-0.j,  2.9216+0.j],\n",
        "        [ 0.0064+0.j, -0.1953+0.j,  0.3943+0.j, -0.9094-0.j]])"
       ]
      }
     ],
     "prompt_number": 181
    },
    {
     "cell_type": "code",
     "collapsed": false,
     "input": [
      "Ar_hat_eigvals, Mr_hat = np.linalg.eig(Ar_hat)"
     ],
     "language": "python",
     "metadata": {},
     "outputs": [],
     "prompt_number": 182
    },
    {
     "cell_type": "code",
     "collapsed": false,
     "input": [
      "Ar_hat_eigvals"
     ],
     "language": "python",
     "metadata": {},
     "outputs": [
      {
       "metadata": {},
       "output_type": "pyout",
       "prompt_number": 183,
       "text": [
        "array([-2.4262-0.j    , -0.1609-0.0736j, -0.1609+0.0736j, -0.2172+0.j    ])"
       ]
      }
     ],
     "prompt_number": 183
    },
    {
     "cell_type": "code",
     "collapsed": false,
     "input": [
      "Br_hat = np.concatenate((np.identity(2),np.identity(2)),0)"
     ],
     "language": "python",
     "metadata": {},
     "outputs": [],
     "prompt_number": 184
    },
    {
     "cell_type": "code",
     "collapsed": false,
     "input": [
      "Br_hat"
     ],
     "language": "python",
     "metadata": {},
     "outputs": [
      {
       "metadata": {},
       "output_type": "pyout",
       "prompt_number": 185,
       "text": [
        "array([[ 1.,  0.],\n",
        "       [ 0.,  1.],\n",
        "       [ 1.,  0.],\n",
        "       [ 0.,  1.]])"
       ]
      }
     ],
     "prompt_number": 185
    },
    {
     "cell_type": "code",
     "collapsed": false,
     "input": [
      "Cr_hat = np.concatenate((Hr2,Hr4),1)"
     ],
     "language": "python",
     "metadata": {},
     "outputs": [],
     "prompt_number": 186
    },
    {
     "cell_type": "code",
     "collapsed": false,
     "input": [
      "Cr_hat"
     ],
     "language": "python",
     "metadata": {},
     "outputs": [
      {
       "metadata": {},
       "output_type": "pyout",
       "prompt_number": 187,
       "text": [
        "matrix([[ 0.2723-0.j, -1.1200+0.j, -0.0000-0.j,  0.0002-0.j],\n",
        "        [-0.4715-0.j, -2.0022-0.j,  0.3372+0.j, -0.1000-0.j]])"
       ]
      }
     ],
     "prompt_number": 187
    },
    {
     "cell_type": "code",
     "collapsed": false,
     "input": [
      "np.savetxt('Ar_hat_cp1.csv', Ar_hat, delimiter=',')"
     ],
     "language": "python",
     "metadata": {},
     "outputs": [],
     "prompt_number": 188
    },
    {
     "cell_type": "code",
     "collapsed": false,
     "input": [
      "np.savetxt('Br_hat_cp1.csv', Br_hat, delimiter=',')"
     ],
     "language": "python",
     "metadata": {},
     "outputs": [],
     "prompt_number": 189
    },
    {
     "cell_type": "code",
     "collapsed": false,
     "input": [
      "np.savetxt('Cr_hat_cp1.csv', Cr_hat, delimiter=',')"
     ],
     "language": "python",
     "metadata": {},
     "outputs": [],
     "prompt_number": 190
    },
    {
     "cell_type": "code",
     "collapsed": false,
     "input": [],
     "language": "python",
     "metadata": {},
     "outputs": []
    }
   ],
   "metadata": {}
  }
 ]
}