{
 "metadata": {
  "name": "",
  "signature": "sha256:349f4a2e36a33599d30d16aad46a2ebeee384f4c2e44f7a368e6e82dd68bd817"
 },
 "nbformat": 3,
 "nbformat_minor": 0,
 "worksheets": [
  {
   "cells": [
    {
     "cell_type": "code",
     "collapsed": false,
     "input": [
      "# Alexander Hebert\n",
      "# ECE 6390\n",
      "# Computer Project #2\n",
      "# Pole assignment using controller type block companion form \n",
      "#  and state feedback"
     ],
     "language": "python",
     "metadata": {},
     "outputs": [],
     "prompt_number": 1
    },
    {
     "cell_type": "code",
     "collapsed": false,
     "input": [
      "# Tested using Python v3.4 and IPython v2"
     ],
     "language": "python",
     "metadata": {},
     "outputs": [],
     "prompt_number": 2
    },
    {
     "cell_type": "code",
     "collapsed": false,
     "input": [
      "# Import libraries"
     ],
     "language": "python",
     "metadata": {},
     "outputs": [],
     "prompt_number": 3
    },
    {
     "cell_type": "code",
     "collapsed": false,
     "input": [
      "import numpy as np"
     ],
     "language": "python",
     "metadata": {},
     "outputs": [],
     "prompt_number": 4
    },
    {
     "cell_type": "code",
     "collapsed": false,
     "input": [
      "import scipy"
     ],
     "language": "python",
     "metadata": {},
     "outputs": [],
     "prompt_number": 5
    },
    {
     "cell_type": "code",
     "collapsed": false,
     "input": [
      "import sympy"
     ],
     "language": "python",
     "metadata": {},
     "outputs": [],
     "prompt_number": 6
    },
    {
     "cell_type": "code",
     "collapsed": false,
     "input": [
      "from IPython.display import display"
     ],
     "language": "python",
     "metadata": {},
     "outputs": [],
     "prompt_number": 7
    },
    {
     "cell_type": "code",
     "collapsed": false,
     "input": [
      "from sympy.interactive import printing"
     ],
     "language": "python",
     "metadata": {},
     "outputs": [],
     "prompt_number": 8
    },
    {
     "cell_type": "code",
     "collapsed": false,
     "input": [
      "np.set_printoptions(precision=6)"
     ],
     "language": "python",
     "metadata": {},
     "outputs": [],
     "prompt_number": 9
    },
    {
     "cell_type": "code",
     "collapsed": false,
     "input": [
      "#np.set_printoptions(suppress=True)"
     ],
     "language": "python",
     "metadata": {},
     "outputs": [],
     "prompt_number": 10
    },
    {
     "cell_type": "code",
     "collapsed": false,
     "input": [
      "# Original system:"
     ],
     "language": "python",
     "metadata": {},
     "outputs": [],
     "prompt_number": 11
    },
    {
     "cell_type": "code",
     "collapsed": false,
     "input": [
      "A = np.loadtxt('A_ex1.txt')"
     ],
     "language": "python",
     "metadata": {},
     "outputs": [],
     "prompt_number": 12
    },
    {
     "cell_type": "code",
     "collapsed": false,
     "input": [
      "A"
     ],
     "language": "python",
     "metadata": {},
     "outputs": [
      {
       "metadata": {},
       "output_type": "pyout",
       "prompt_number": 13,
       "text": [
        "array([[ 1.38  , -0.2077,  6.715 , -5.676 ],\n",
        "       [-0.5814, -4.29  ,  0.    ,  0.675 ],\n",
        "       [ 1.067 ,  4.273 , -6.654 ,  5.893 ],\n",
        "       [ 0.048 ,  4.273 ,  1.343 , -2.104 ]])"
       ]
      }
     ],
     "prompt_number": 13
    },
    {
     "cell_type": "code",
     "collapsed": false,
     "input": [
      "n,nc = A.shape"
     ],
     "language": "python",
     "metadata": {},
     "outputs": [],
     "prompt_number": 14
    },
    {
     "cell_type": "code",
     "collapsed": false,
     "input": [
      "B = np.loadtxt('B_ex1.txt')"
     ],
     "language": "python",
     "metadata": {},
     "outputs": [],
     "prompt_number": 15
    },
    {
     "cell_type": "code",
     "collapsed": false,
     "input": [
      "B"
     ],
     "language": "python",
     "metadata": {},
     "outputs": [
      {
       "metadata": {},
       "output_type": "pyout",
       "prompt_number": 16,
       "text": [
        "array([[ 0.   ,  0.   ],\n",
        "       [ 5.679,  0.   ],\n",
        "       [ 1.136, -3.146],\n",
        "       [ 1.136,  0.   ]])"
       ]
      }
     ],
     "prompt_number": 16
    },
    {
     "cell_type": "code",
     "collapsed": false,
     "input": [
      "nr,m = B.shape"
     ],
     "language": "python",
     "metadata": {},
     "outputs": [],
     "prompt_number": 17
    },
    {
     "cell_type": "code",
     "collapsed": false,
     "input": [
      "# Compute eigenvalues/poles of A to determine system stability:"
     ],
     "language": "python",
     "metadata": {},
     "outputs": [],
     "prompt_number": 18
    },
    {
     "cell_type": "code",
     "collapsed": false,
     "input": [
      "A_eigvals, M = np.linalg.eig(A)"
     ],
     "language": "python",
     "metadata": {},
     "outputs": [],
     "prompt_number": 19
    },
    {
     "cell_type": "code",
     "collapsed": false,
     "input": [
      "A_eigvals"
     ],
     "language": "python",
     "metadata": {},
     "outputs": [
      {
       "metadata": {},
       "output_type": "pyout",
       "prompt_number": 20,
       "text": [
        "array([ 1.99096 ,  0.063508, -5.056574, -8.665894])"
       ]
      }
     ],
     "prompt_number": 20
    },
    {
     "cell_type": "code",
     "collapsed": false,
     "input": [
      "# Two poles lie in the RHP and are unstable."
     ],
     "language": "python",
     "metadata": {},
     "outputs": [],
     "prompt_number": 21
    },
    {
     "cell_type": "code",
     "collapsed": false,
     "input": [
      "A_eigvals_desired = np.array([-0.2,-0.5,A_eigvals[2],A_eigvals[3]])"
     ],
     "language": "python",
     "metadata": {},
     "outputs": [],
     "prompt_number": 22
    },
    {
     "cell_type": "code",
     "collapsed": false,
     "input": [
      "A_eigvals_desired"
     ],
     "language": "python",
     "metadata": {},
     "outputs": [
      {
       "metadata": {},
       "output_type": "pyout",
       "prompt_number": 23,
       "text": [
        "array([-0.2     , -0.5     , -5.056574, -8.665894])"
       ]
      }
     ],
     "prompt_number": 23
    },
    {
     "cell_type": "code",
     "collapsed": false,
     "input": [
      "Lambda = np.diag(A_eigvals_desired)"
     ],
     "language": "python",
     "metadata": {},
     "outputs": [],
     "prompt_number": 24
    },
    {
     "cell_type": "code",
     "collapsed": false,
     "input": [
      "Lambda"
     ],
     "language": "python",
     "metadata": {},
     "outputs": [
      {
       "metadata": {},
       "output_type": "pyout",
       "prompt_number": 25,
       "text": [
        "array([[-0.2     ,  0.      ,  0.      ,  0.      ],\n",
        "       [ 0.      , -0.5     ,  0.      ,  0.      ],\n",
        "       [ 0.      ,  0.      , -5.056574,  0.      ],\n",
        "       [ 0.      ,  0.      ,  0.      , -8.665894]])"
       ]
      }
     ],
     "prompt_number": 25
    },
    {
     "cell_type": "code",
     "collapsed": false,
     "input": [
      "# Pole assignment using controller type block companion form \n",
      "#  and state feedback"
     ],
     "language": "python",
     "metadata": {},
     "outputs": [],
     "prompt_number": 26
    },
    {
     "cell_type": "code",
     "collapsed": false,
     "input": [
      "Bc = np.array([[0,0],[0,0],[1.,0],[0,1.]])\n",
      "Bc"
     ],
     "language": "python",
     "metadata": {},
     "outputs": [
      {
       "metadata": {},
       "output_type": "pyout",
       "prompt_number": 27,
       "text": [
        "array([[ 0.,  0.],\n",
        "       [ 0.,  0.],\n",
        "       [ 1.,  0.],\n",
        "       [ 0.,  1.]])"
       ]
      }
     ],
     "prompt_number": 27
    },
    {
     "cell_type": "code",
     "collapsed": false,
     "input": [
      "Phi_c = np.concatenate((B,A.dot(B)),1)\n",
      "Tc1 = np.dot(Bc.T,np.linalg.inv(Phi_c))\n",
      "Tc1"
     ],
     "language": "python",
     "metadata": {},
     "outputs": [
      {
       "metadata": {},
       "output_type": "pyout",
       "prompt_number": 28,
       "text": [
        "array([[ -7.111928e-03,  -7.113180e-03,   0.000000e+00,   3.555964e-02],\n",
        "       [ -4.733667e-02,  -2.611878e-07,   0.000000e+00,   1.305709e-06]])"
       ]
      }
     ],
     "prompt_number": 28
    },
    {
     "cell_type": "code",
     "collapsed": false,
     "input": [
      "Tc = np.concatenate((Tc1,Tc1.dot(A)),0)\n",
      "Tc"
     ],
     "language": "python",
     "metadata": {},
     "outputs": [
      {
       "metadata": {},
       "output_type": "pyout",
       "prompt_number": 29,
       "text": [
        "array([[ -7.111928e-03,  -7.113180e-03,   0.000000e+00,   3.555964e-02],\n",
        "       [ -4.733667e-02,  -2.611878e-07,   0.000000e+00,   1.305709e-06],\n",
        "       [ -3.971995e-03,   1.839390e-01,   0.000000e+00,  -3.925158e-02],\n",
        "       [ -6.532438e-02,   9.838525e-03,  -3.178640e-01,   2.686800e-01]])"
       ]
      }
     ],
     "prompt_number": 29
    },
    {
     "cell_type": "code",
     "collapsed": false,
     "input": [
      "Tc_inv = np.linalg.inv(Tc)\n",
      "Tc_inv"
     ],
     "language": "python",
     "metadata": {},
     "outputs": [
      {
       "metadata": {},
       "output_type": "pyout",
       "prompt_number": 30,
       "text": [
        "array([[  7.757000e-04,  -2.112539e+01,  -8.497769e-16,  -1.140029e-17],\n",
        "       [  6.268667e+00,  -1.418335e+00,   5.679000e+00,  -7.569394e-17],\n",
        "       [  2.502434e+01,   4.864526e-01,   1.136000e+00,  -3.146000e+00],\n",
        "       [  2.937588e+01,  -4.508795e+00,   1.136000e+00,  -4.076722e-16]])"
       ]
      }
     ],
     "prompt_number": 30
    },
    {
     "cell_type": "code",
     "collapsed": false,
     "input": [
      "Ac = Tc.dot(A).dot(Tc_inv)\n",
      "Ac"
     ],
     "language": "python",
     "metadata": {},
     "outputs": [
      {
       "metadata": {},
       "output_type": "pyout",
       "prompt_number": 31,
       "text": [
        "array([[  0.000000e+00,   2.775558e-17,   1.000000e+00,   2.123989e-18],\n",
        "       [ -1.776357e-15,   2.220446e-16,  -5.551115e-17,   1.000000e+00],\n",
        "       [ -1.243937e+00,   2.698279e+00,  -5.258809e+00,   2.497509e-01],\n",
        "       [ -1.106169e+01,   1.954029e+01,  -1.383198e+00,  -6.409191e+00]])"
       ]
      }
     ],
     "prompt_number": 31
    },
    {
     "cell_type": "code",
     "collapsed": false,
     "input": [
      "Ac2 = -1*Ac[2:4,0:2]\n",
      "Ac2"
     ],
     "language": "python",
     "metadata": {},
     "outputs": [
      {
       "metadata": {},
       "output_type": "pyout",
       "prompt_number": 32,
       "text": [
        "array([[  1.243937,  -2.698279],\n",
        "       [ 11.061689, -19.540295]])"
       ]
      }
     ],
     "prompt_number": 32
    },
    {
     "cell_type": "code",
     "collapsed": false,
     "input": [
      "Ac1 = -1*Ac[2:4,2:4]\n",
      "Ac1"
     ],
     "language": "python",
     "metadata": {},
     "outputs": [
      {
       "metadata": {},
       "output_type": "pyout",
       "prompt_number": 33,
       "text": [
        "array([[ 5.258809, -0.249751],\n",
        "       [ 1.383198,  6.409191]])"
       ]
      }
     ],
     "prompt_number": 33
    },
    {
     "cell_type": "code",
     "collapsed": false,
     "input": [
      "# Check Bc\n",
      "Tc.dot(B)"
     ],
     "language": "python",
     "metadata": {},
     "outputs": [
      {
       "metadata": {},
       "output_type": "pyout",
       "prompt_number": 34,
       "text": [
        "array([[  1.387779e-17,   0.000000e+00],\n",
        "       [  2.117582e-22,   0.000000e+00],\n",
        "       [  1.000000e+00,   0.000000e+00],\n",
        "       [  5.551115e-17,   1.000000e+00]])"
       ]
      }
     ],
     "prompt_number": 34
    },
    {
     "cell_type": "code",
     "collapsed": false,
     "input": [
      "# Calculations for Kc\n",
      "\n",
      "# (s+0.2)*(s+0.5) = s^2 + 0.7s + 0.1\n",
      "d1 = 0.7\n",
      "d2 = 0.1\n",
      "\n",
      "# (s+5.0566)*(s+8.6659) = s^2 + 13.7225s + 43.82\n",
      "d3 = 13.7225\n",
      "d4 = 43.82"
     ],
     "language": "python",
     "metadata": {},
     "outputs": [],
     "prompt_number": 35
    },
    {
     "cell_type": "code",
     "collapsed": false,
     "input": [
      "D1 = np.array([[d1,0],[0,d3]])\n",
      "D1"
     ],
     "language": "python",
     "metadata": {},
     "outputs": [
      {
       "metadata": {},
       "output_type": "pyout",
       "prompt_number": 36,
       "text": [
        "array([[  0.7   ,   0.    ],\n",
        "       [  0.    ,  13.7225]])"
       ]
      }
     ],
     "prompt_number": 36
    },
    {
     "cell_type": "code",
     "collapsed": false,
     "input": [
      "D2 = np.array([[d2,0],[0,d4]])\n",
      "D2"
     ],
     "language": "python",
     "metadata": {},
     "outputs": [
      {
       "metadata": {},
       "output_type": "pyout",
       "prompt_number": 37,
       "text": [
        "array([[  0.1 ,   0.  ],\n",
        "       [  0.  ,  43.82]])"
       ]
      }
     ],
     "prompt_number": 37
    },
    {
     "cell_type": "code",
     "collapsed": false,
     "input": [
      "Kc1 = D1 - Ac1\n",
      "Kc1"
     ],
     "language": "python",
     "metadata": {},
     "outputs": [
      {
       "metadata": {},
       "output_type": "pyout",
       "prompt_number": 38,
       "text": [
        "array([[-4.558809,  0.249751],\n",
        "       [-1.383198,  7.313309]])"
       ]
      }
     ],
     "prompt_number": 38
    },
    {
     "cell_type": "code",
     "collapsed": false,
     "input": [
      "Kc2 = D2 - Ac2\n",
      "Kc2"
     ],
     "language": "python",
     "metadata": {},
     "outputs": [
      {
       "metadata": {},
       "output_type": "pyout",
       "prompt_number": 39,
       "text": [
        "array([[ -1.143937,   2.698279],\n",
        "       [-11.061689,  63.360295]])"
       ]
      }
     ],
     "prompt_number": 39
    },
    {
     "cell_type": "code",
     "collapsed": false,
     "input": [
      "Kc = np.concatenate((Kc2,Kc1),1)\n",
      "Kc"
     ],
     "language": "python",
     "metadata": {},
     "outputs": [
      {
       "metadata": {},
       "output_type": "pyout",
       "prompt_number": 40,
       "text": [
        "array([[ -1.143937,   2.698279,  -4.558809,   0.249751],\n",
        "       [-11.061689,  63.360295,  -1.383198,   7.313309]])"
       ]
      }
     ],
     "prompt_number": 40
    },
    {
     "cell_type": "code",
     "collapsed": false,
     "input": [
      "K = Kc.dot(Tc)\n",
      "K"
     ],
     "language": "python",
     "metadata": {},
     "outputs": [
      {
       "metadata": {},
       "output_type": "pyout",
       "prompt_number": 41,
       "text": [
        "array([[-0.117799, -0.827949, -0.079387,  0.205369],\n",
        "       [-3.392838, -0.103805, -2.324637,  1.625966]])"
       ]
      }
     ],
     "prompt_number": 41
    },
    {
     "cell_type": "code",
     "collapsed": false,
     "input": [
      "np.linalg.norm(K)"
     ],
     "language": "python",
     "metadata": {},
     "outputs": [
      {
       "metadata": {},
       "output_type": "pyout",
       "prompt_number": 42,
       "text": [
        "4.5075145258660738"
       ]
      }
     ],
     "prompt_number": 42
    },
    {
     "cell_type": "code",
     "collapsed": false,
     "input": [
      "A_hat = A - B.dot(K)\n",
      "A_hat"
     ],
     "language": "python",
     "metadata": {},
     "outputs": [
      {
       "metadata": {},
       "output_type": "pyout",
       "prompt_number": 43,
       "text": [
        "array([[  1.38    ,  -0.2077  ,   6.715   ,  -5.676   ],\n",
        "       [  0.087582,   0.411925,   0.450838,  -0.491291],\n",
        "       [ -9.47305 ,   4.886981, -13.877126,  10.774988],\n",
        "       [  0.18182 ,   5.213551,   1.433183,  -2.337299]])"
       ]
      }
     ],
     "prompt_number": 43
    },
    {
     "cell_type": "code",
     "collapsed": false,
     "input": [
      "A_hat_eigvals, M_hat = np.linalg.eig(A_hat)\n",
      "A_hat_eigvals"
     ],
     "language": "python",
     "metadata": {},
     "outputs": [
      {
       "metadata": {},
       "output_type": "pyout",
       "prompt_number": 44,
       "text": [
        "array([-8.665897, -5.056603, -0.2     , -0.5     ])"
       ]
      }
     ],
     "prompt_number": 44
    },
    {
     "cell_type": "code",
     "collapsed": false,
     "input": [
      "idx = A_hat_eigvals.argsort()[::-1]\n",
      "A_hat_eigvals = A_hat_eigvals[idx]\n",
      "A_hat_eigvals"
     ],
     "language": "python",
     "metadata": {},
     "outputs": [
      {
       "metadata": {},
       "output_type": "pyout",
       "prompt_number": 45,
       "text": [
        "array([-0.2     , -0.5     , -5.056603, -8.665897])"
       ]
      }
     ],
     "prompt_number": 45
    },
    {
     "cell_type": "code",
     "collapsed": false,
     "input": [
      "M_hat = M_hat[:,idx]"
     ],
     "language": "python",
     "metadata": {},
     "outputs": [],
     "prompt_number": 46
    },
    {
     "cell_type": "code",
     "collapsed": false,
     "input": [
      "np.linalg.cond(M_hat)"
     ],
     "language": "python",
     "metadata": {},
     "outputs": [
      {
       "metadata": {},
       "output_type": "pyout",
       "prompt_number": 47,
       "text": [
        "53.907192905412508"
       ]
      }
     ],
     "prompt_number": 47
    },
    {
     "cell_type": "code",
     "collapsed": false,
     "input": [],
     "language": "python",
     "metadata": {},
     "outputs": []
    }
   ],
   "metadata": {}
  }
 ]
}