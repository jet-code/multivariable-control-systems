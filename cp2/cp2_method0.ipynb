{
 "metadata": {
  "name": "",
  "signature": "sha256:89498484f82f73e1b7b45182f34b7087c656b601e41d438fbc99be54bc42ce0c"
 },
 "nbformat": 3,
 "nbformat_minor": 0,
 "worksheets": [
  {
   "cells": [
    {
     "cell_type": "code",
     "collapsed": false,
     "input": [
      "# Alexander Hebert\n",
      "# ECE 6390\n",
      "# Computer Project #2"
     ],
     "language": "python",
     "metadata": {},
     "outputs": [],
     "prompt_number": 1
    },
    {
     "cell_type": "code",
     "collapsed": false,
     "input": [
      "# Tested using Python v3.4 and IPython v2"
     ],
     "language": "python",
     "metadata": {},
     "outputs": [],
     "prompt_number": 2
    },
    {
     "cell_type": "code",
     "collapsed": false,
     "input": [
      "# Import libraries"
     ],
     "language": "python",
     "metadata": {},
     "outputs": []
    },
    {
     "cell_type": "code",
     "collapsed": false,
     "input": [
      "import numpy as np"
     ],
     "language": "python",
     "metadata": {},
     "outputs": [],
     "prompt_number": 3
    },
    {
     "cell_type": "code",
     "collapsed": false,
     "input": [
      "import scipy"
     ],
     "language": "python",
     "metadata": {},
     "outputs": [],
     "prompt_number": 4
    },
    {
     "cell_type": "code",
     "collapsed": false,
     "input": [
      "import sympy"
     ],
     "language": "python",
     "metadata": {},
     "outputs": [],
     "prompt_number": 5
    },
    {
     "cell_type": "code",
     "collapsed": false,
     "input": [
      "from IPython.display import display"
     ],
     "language": "python",
     "metadata": {},
     "outputs": [],
     "prompt_number": 6
    },
    {
     "cell_type": "code",
     "collapsed": false,
     "input": [
      "from sympy.interactive import printing"
     ],
     "language": "python",
     "metadata": {},
     "outputs": [],
     "prompt_number": 7
    },
    {
     "cell_type": "code",
     "collapsed": false,
     "input": [
      "np.set_printoptions(precision=6)"
     ],
     "language": "python",
     "metadata": {},
     "outputs": [],
     "prompt_number": 8
    },
    {
     "cell_type": "code",
     "collapsed": false,
     "input": [
      "#np.set_printoptions(suppress=True)"
     ],
     "language": "python",
     "metadata": {},
     "outputs": [],
     "prompt_number": 9
    },
    {
     "cell_type": "code",
     "collapsed": false,
     "input": [
      "# Original system:"
     ],
     "language": "python",
     "metadata": {},
     "outputs": []
    },
    {
     "cell_type": "code",
     "collapsed": false,
     "input": [
      "A = np.loadtxt('A_ex1.txt')"
     ],
     "language": "python",
     "metadata": {},
     "outputs": [],
     "prompt_number": 10
    },
    {
     "cell_type": "code",
     "collapsed": false,
     "input": [
      "A"
     ],
     "language": "python",
     "metadata": {},
     "outputs": [
      {
       "metadata": {},
       "output_type": "pyout",
       "prompt_number": 11,
       "text": [
        "array([[ 1.38  , -0.2077,  6.715 , -5.676 ],\n",
        "       [-0.5814, -4.29  ,  0.    ,  0.675 ],\n",
        "       [ 1.067 ,  4.273 , -6.654 ,  5.893 ],\n",
        "       [ 0.048 ,  4.273 ,  1.343 , -2.104 ]])"
       ]
      }
     ],
     "prompt_number": 11
    },
    {
     "cell_type": "code",
     "collapsed": false,
     "input": [
      "n,nc = A.shape"
     ],
     "language": "python",
     "metadata": {},
     "outputs": [],
     "prompt_number": 12
    },
    {
     "cell_type": "code",
     "collapsed": false,
     "input": [
      "B = np.loadtxt('B_ex1.txt')"
     ],
     "language": "python",
     "metadata": {},
     "outputs": [],
     "prompt_number": 13
    },
    {
     "cell_type": "code",
     "collapsed": false,
     "input": [
      "B"
     ],
     "language": "python",
     "metadata": {},
     "outputs": [
      {
       "metadata": {},
       "output_type": "pyout",
       "prompt_number": 14,
       "text": [
        "array([[ 0.   ,  0.   ],\n",
        "       [ 5.679,  0.   ],\n",
        "       [ 1.136, -3.146],\n",
        "       [ 1.136,  0.   ]])"
       ]
      }
     ],
     "prompt_number": 14
    },
    {
     "cell_type": "code",
     "collapsed": false,
     "input": [
      "nr,m = B.shape"
     ],
     "language": "python",
     "metadata": {},
     "outputs": [],
     "prompt_number": 15
    },
    {
     "cell_type": "code",
     "collapsed": false,
     "input": [
      "# Compute eigenvalues/poles of A to determine system stability:"
     ],
     "language": "python",
     "metadata": {},
     "outputs": []
    },
    {
     "cell_type": "code",
     "collapsed": false,
     "input": [
      "A_eigvals, M = np.linalg.eig(A)"
     ],
     "language": "python",
     "metadata": {},
     "outputs": [],
     "prompt_number": 16
    },
    {
     "cell_type": "code",
     "collapsed": false,
     "input": [
      "A_eigvals"
     ],
     "language": "python",
     "metadata": {},
     "outputs": [
      {
       "metadata": {},
       "output_type": "pyout",
       "prompt_number": 17,
       "text": [
        "array([ 1.99096 ,  0.063508, -5.056574, -8.665894])"
       ]
      }
     ],
     "prompt_number": 17
    },
    {
     "cell_type": "code",
     "collapsed": false,
     "input": [
      "# Two poles lie in the RHP and are unstable."
     ],
     "language": "python",
     "metadata": {},
     "outputs": [],
     "prompt_number": 18
    },
    {
     "cell_type": "code",
     "collapsed": false,
     "input": [
      "A_eigvals_desired = np.array([-0.2,-0.5,A_eigvals[2],A_eigvals[3]])"
     ],
     "language": "python",
     "metadata": {},
     "outputs": [],
     "prompt_number": 19
    },
    {
     "cell_type": "code",
     "collapsed": false,
     "input": [
      "A_eigvals_desired"
     ],
     "language": "python",
     "metadata": {},
     "outputs": [
      {
       "metadata": {},
       "output_type": "pyout",
       "prompt_number": 20,
       "text": [
        "array([-0.2     , -0.5     , -5.056574, -8.665894])"
       ]
      }
     ],
     "prompt_number": 20
    },
    {
     "cell_type": "code",
     "collapsed": false,
     "input": [
      "Lambda = np.diag(A_eigvals_desired)"
     ],
     "language": "python",
     "metadata": {},
     "outputs": [],
     "prompt_number": 21
    },
    {
     "cell_type": "code",
     "collapsed": false,
     "input": [
      "Lambda"
     ],
     "language": "python",
     "metadata": {},
     "outputs": [
      {
       "metadata": {},
       "output_type": "pyout",
       "prompt_number": 22,
       "text": [
        "array([[-0.2     ,  0.      ,  0.      ,  0.      ],\n",
        "       [ 0.      , -0.5     ,  0.      ,  0.      ],\n",
        "       [ 0.      ,  0.      , -5.056574,  0.      ],\n",
        "       [ 0.      ,  0.      ,  0.      , -8.665894]])"
       ]
      }
     ],
     "prompt_number": 22
    },
    {
     "cell_type": "code",
     "collapsed": false,
     "input": [
      "# Pole Assignment Algorithm from journal paper"
     ],
     "language": "python",
     "metadata": {},
     "outputs": []
    },
    {
     "cell_type": "code",
     "collapsed": false,
     "input": [
      "# Step A: Decomposition of B using SVD\n",
      "# B = U*S*V.H"
     ],
     "language": "python",
     "metadata": {},
     "outputs": [],
     "prompt_number": 23
    },
    {
     "cell_type": "code",
     "collapsed": false,
     "input": [
      "U, s, VH = np.linalg.svd(B)"
     ],
     "language": "python",
     "metadata": {},
     "outputs": [],
     "prompt_number": 24
    },
    {
     "cell_type": "code",
     "collapsed": false,
     "input": [
      "U"
     ],
     "language": "python",
     "metadata": {},
     "outputs": [
      {
       "metadata": {},
       "output_type": "pyout",
       "prompt_number": 25,
       "text": [
        "array([[  6.016779e-18,  -8.304906e-17,  -9.868038e-01,  -1.619203e-01],\n",
        "       [ -9.460842e-01,  -2.577794e-01,   3.176055e-02,  -1.935609e-01],\n",
        "       [ -2.628862e-01,   9.648268e-01,  -2.220446e-16,   0.000000e+00],\n",
        "       [ -1.892501e-01,  -5.156495e-02,  -1.587748e-01,   9.676342e-01]])"
       ]
      }
     ],
     "prompt_number": 25
    },
    {
     "cell_type": "code",
     "collapsed": false,
     "input": [
      "s"
     ],
     "language": "python",
     "metadata": {},
     "outputs": [
      {
       "metadata": {},
       "output_type": "pyout",
       "prompt_number": 26,
       "text": [
        "array([ 5.944254,  3.065158])"
       ]
      }
     ],
     "prompt_number": 26
    },
    {
     "cell_type": "code",
     "collapsed": false,
     "input": [
      "S = np.zeros((4, 2))\n",
      "S[:2, :2] = np.diag(s)"
     ],
     "language": "python",
     "metadata": {},
     "outputs": [],
     "prompt_number": 27
    },
    {
     "cell_type": "code",
     "collapsed": false,
     "input": [
      "S"
     ],
     "language": "python",
     "metadata": {},
     "outputs": [
      {
       "metadata": {},
       "output_type": "pyout",
       "prompt_number": 28,
       "text": [
        "array([[ 5.944254,  0.      ],\n",
        "       [ 0.      ,  3.065158],\n",
        "       [ 0.      ,  0.      ],\n",
        "       [ 0.      ,  0.      ]])"
       ]
      }
     ],
     "prompt_number": 28
    },
    {
     "cell_type": "code",
     "collapsed": false,
     "input": [
      "VH"
     ],
     "language": "python",
     "metadata": {},
     "outputs": [
      {
       "metadata": {},
       "output_type": "pyout",
       "prompt_number": 29,
       "text": [
        "array([[-0.990274,  0.139133],\n",
        "       [-0.139133, -0.990274]])"
       ]
      }
     ],
     "prompt_number": 29
    },
    {
     "cell_type": "code",
     "collapsed": false,
     "input": [
      "# Extract U_0 and U_1 from matrix U = [U_0,U_1]"
     ],
     "language": "python",
     "metadata": {},
     "outputs": [],
     "prompt_number": 30
    },
    {
     "cell_type": "code",
     "collapsed": false,
     "input": [
      "U_0 = U[:n,:m]"
     ],
     "language": "python",
     "metadata": {},
     "outputs": [],
     "prompt_number": 31
    },
    {
     "cell_type": "code",
     "collapsed": false,
     "input": [
      "U_0"
     ],
     "language": "python",
     "metadata": {},
     "outputs": [
      {
       "metadata": {},
       "output_type": "pyout",
       "prompt_number": 32,
       "text": [
        "array([[  6.016779e-18,  -8.304906e-17],\n",
        "       [ -9.460842e-01,  -2.577794e-01],\n",
        "       [ -2.628862e-01,   9.648268e-01],\n",
        "       [ -1.892501e-01,  -5.156495e-02]])"
       ]
      }
     ],
     "prompt_number": 32
    },
    {
     "cell_type": "code",
     "collapsed": false,
     "input": [
      "U_1 = U[:n,m:]"
     ],
     "language": "python",
     "metadata": {},
     "outputs": [],
     "prompt_number": 33
    },
    {
     "cell_type": "code",
     "collapsed": false,
     "input": [
      "U_1"
     ],
     "language": "python",
     "metadata": {},
     "outputs": [
      {
       "metadata": {},
       "output_type": "pyout",
       "prompt_number": 34,
       "text": [
        "array([[ -9.868038e-01,  -1.619203e-01],\n",
        "       [  3.176055e-02,  -1.935609e-01],\n",
        "       [ -2.220446e-16,   0.000000e+00],\n",
        "       [ -1.587748e-01,   9.676342e-01]])"
       ]
      }
     ],
     "prompt_number": 34
    },
    {
     "cell_type": "code",
     "collapsed": false,
     "input": [
      "# B = [U_0,U_1][Z,0].T\n",
      "# Compute Z from SVD of B"
     ],
     "language": "python",
     "metadata": {},
     "outputs": [],
     "prompt_number": 35
    },
    {
     "cell_type": "code",
     "collapsed": false,
     "input": [
      "Z = np.diag(s).dot(VH)"
     ],
     "language": "python",
     "metadata": {},
     "outputs": [],
     "prompt_number": 36
    },
    {
     "cell_type": "code",
     "collapsed": false,
     "input": [
      "Z"
     ],
     "language": "python",
     "metadata": {},
     "outputs": [
      {
       "metadata": {},
       "output_type": "pyout",
       "prompt_number": 37,
       "text": [
        "array([[-5.886439,  0.82704 ],\n",
        "       [-0.426464, -3.035345]])"
       ]
      }
     ],
     "prompt_number": 37
    },
    {
     "cell_type": "code",
     "collapsed": false,
     "input": [
      "# Compute the nullspace of U_1.T *(A - lambda_j*I)\n",
      "# for initial eigenvectors in X\n",
      "\n",
      "X = np.zeros((n,n))\n",
      "\n",
      "for j in range(len(A_eigvals_desired)):\n",
      "    \n",
      "    lambda_j = A_eigvals_desired[j]\n",
      "    \n",
      "    # M_j is a temp matrix\n",
      "    exec(\"M_%d = np.dot(U_1.T,(A - lambda_j*np.identity(n)))\" %(j+1))\n",
      "    \n",
      "    # U_1.T *(A - lambda_j*I) = T_j *[Gamma_j,0]*[S_j_hat,S_j].T\n",
      "    exec(\"T_%d, gamma_%d, SH_%d = np.linalg.svd(M_%d)\" %(j+1,j+1,j+1,j+1))\n",
      "    \n",
      "    exec(\"X[:,j] = SH_%d[-2,:]\" %(j+1))\n",
      "    # no transpose in SH_j due to 1-d vector\n",
      "    \n",
      "    exec(\"S_hat_%d = SH_%d[:m,:].T\" %(j+1,j+1))\n",
      "    exec(\"S_%d = SH_%d[m:,:].T\" %(j+1,j+1))\n",
      "    "
     ],
     "language": "python",
     "metadata": {},
     "outputs": [],
     "prompt_number": 38
    },
    {
     "cell_type": "code",
     "collapsed": false,
     "input": [
      "# Initial eigenvectors in X\n",
      "X"
     ],
     "language": "python",
     "metadata": {},
     "outputs": [
      {
       "metadata": {},
       "output_type": "pyout",
       "prompt_number": 39,
       "text": [
        "array([[-0.748637, -0.744617, -0.642351, -0.552079],\n",
        "       [ 0.049467,  0.015566, -0.281814, -0.241829],\n",
        "       [ 0.521342,  0.540158,  0.703512,  0.797569],\n",
        "       [ 0.406569,  0.391833,  0.114178, -0.024705]])"
       ]
      }
     ],
     "prompt_number": 39
    },
    {
     "cell_type": "code",
     "collapsed": false,
     "input": [
      "# Test X for full rank\n",
      "X_rank = np.linalg.matrix_rank(X)"
     ],
     "language": "python",
     "metadata": {},
     "outputs": [],
     "prompt_number": 40
    },
    {
     "cell_type": "code",
     "collapsed": false,
     "input": [
      "all((X_rank,n))"
     ],
     "language": "python",
     "metadata": {},
     "outputs": [
      {
       "metadata": {},
       "output_type": "pyout",
       "prompt_number": 41,
       "text": [
        "True"
       ]
      }
     ],
     "prompt_number": 41
    },
    {
     "cell_type": "code",
     "collapsed": false,
     "input": [
      "# Step X with Method 0\n",
      "\n",
      "maxiter = 2\n",
      "v2current = 0\n",
      "v2prev = np.linalg.cond(X)\n",
      "eps = 10e-5\n",
      "flag = 0\n",
      "X_j = np.zeros((n,n-1))\n",
      "cond_num = np.zeros((n,1))\n",
      "\n",
      "for r in range(maxiter):\n",
      "    \n",
      "    for j in range(n):\n",
      "        \n",
      "        X_j = np.delete(X,j,1)\n",
      "        Q,R = np.linalg.qr(X_j,mode='complete')\n",
      "        y_j = Q[:,-1].reshape((4,1))\n",
      "        \n",
      "        exec(\"S_j = S_%d\" %(j+1))\n",
      "        x_j = (S_j.dot(S_j.T).dot(y_j) / np.linalg.norm(np.dot(S_j.T,y_j)))\n",
      "        X[:,j] = x_j[:,0]\n",
      "        \n",
      "        cond_num[j,0] = 1 / np.abs(np.dot(y_j.T,x_j))\n",
      "        \n",
      "    v2current = np.linalg.cond(X)\n",
      "    \n",
      "    if ((v2current - v2prev) < eps):\n",
      "        print(\"Tolerance met\")\n",
      "        print(\"v2 = %.3f\" %v2current)\n",
      "        flag = 1\n",
      "        \n",
      "    else:\n",
      "        v2prev = v2current\n",
      "    \n",
      "if (flag == 0):\n",
      "    print(\"Tolerance not met\")\n",
      "    print(\"v2 = %.3f\" %v2current)\n",
      "    "
     ],
     "language": "python",
     "metadata": {},
     "outputs": [
      {
       "output_type": "stream",
       "stream": "stdout",
       "text": [
        "Tolerance met\n",
        "v2 = 3.361\n",
        "Tolerance met\n",
        "v2 = 3.425\n"
       ]
      }
     ],
     "prompt_number": 42
    },
    {
     "cell_type": "code",
     "collapsed": false,
     "input": [
      "X"
     ],
     "language": "python",
     "metadata": {},
     "outputs": [
      {
       "metadata": {},
       "output_type": "pyout",
       "prompt_number": 43,
       "text": [
        "array([[ 0.575333, -0.783911,  0.379928,  0.540762],\n",
        "       [ 0.136018,  0.008725, -0.564158,  0.275325],\n",
        "       [ 0.440119,  0.514012,  0.211629, -0.794813],\n",
        "       [ 0.675859,  0.348137,  0.70185 ,  0.00671 ]])"
       ]
      }
     ],
     "prompt_number": 43
    },
    {
     "cell_type": "code",
     "collapsed": false,
     "input": [
      "np.linalg.matrix_rank(X)"
     ],
     "language": "python",
     "metadata": {},
     "outputs": [
      {
       "metadata": {},
       "output_type": "pyout",
       "prompt_number": 44,
       "text": [
        "4"
       ]
      }
     ],
     "prompt_number": 44
    },
    {
     "cell_type": "code",
     "collapsed": false,
     "input": [
      "X_inv = np.linalg.inv(X)"
     ],
     "language": "python",
     "metadata": {},
     "outputs": [],
     "prompt_number": 45
    },
    {
     "cell_type": "code",
     "collapsed": false,
     "input": [
      "X_inv"
     ],
     "language": "python",
     "metadata": {},
     "outputs": [
      {
       "metadata": {},
       "output_type": "pyout",
       "prompt_number": 46,
       "text": [
        "array([[ 0.626346,  1.008495,  0.77749 ,  0.237151],\n",
        "       [-1.103892,  0.533861, -0.556035,  1.19435 ],\n",
        "       [-0.051949, -1.241438, -0.460367,  0.593854],\n",
        "       [-0.380895,  0.573147, -1.309802,  1.061838]])"
       ]
      }
     ],
     "prompt_number": 46
    },
    {
     "cell_type": "code",
     "collapsed": false,
     "input": [
      "# M defined as A + BF\n",
      "M = X.dot(Lambda).dot(X_inv)"
     ],
     "language": "python",
     "metadata": {},
     "outputs": [],
     "prompt_number": 47
    },
    {
     "cell_type": "code",
     "collapsed": false,
     "input": [
      "M"
     ],
     "language": "python",
     "metadata": {},
     "outputs": [
      {
       "metadata": {},
       "output_type": "pyout",
       "prompt_number": 48,
       "text": [
        "array([[ 1.38    , -0.2077  ,  6.715   , -5.676   ],\n",
        "       [ 0.748373, -4.938714,  1.793084, -0.851045],\n",
        "       [-2.339352,  5.050211, -8.454491,  6.350361],\n",
        "       [ 0.314002,  4.143234,  1.70168 , -2.409263]])"
       ]
      }
     ],
     "prompt_number": 48
    },
    {
     "cell_type": "code",
     "collapsed": false,
     "input": [
      "# Eigenvalues of controlled system\n",
      "M_eigvals, H = np.linalg.eig(M)\n",
      "M_eigvals"
     ],
     "language": "python",
     "metadata": {},
     "outputs": [
      {
       "metadata": {},
       "output_type": "pyout",
       "prompt_number": 49,
       "text": [
        "array([-8.665894, -0.2     , -0.5     , -5.056574])"
       ]
      }
     ],
     "prompt_number": 49
    },
    {
     "cell_type": "code",
     "collapsed": false,
     "input": [
      "# Compute feedback matrix F\n",
      "F = np.dot(np.linalg.inv(Z),np.dot(U_0.T,(M - A)))"
     ],
     "language": "python",
     "metadata": {},
     "outputs": [],
     "prompt_number": 50
    },
    {
     "cell_type": "code",
     "collapsed": false,
     "input": [
      "F"
     ],
     "language": "python",
     "metadata": {},
     "outputs": [
      {
       "metadata": {},
       "output_type": "pyout",
       "prompt_number": 51,
       "text": [
        "array([[ 0.234156, -0.11423 ,  0.315739, -0.268717],\n",
        "       [ 1.167309, -0.288295,  0.686322, -0.242411]])"
       ]
      }
     ],
     "prompt_number": 51
    },
    {
     "cell_type": "code",
     "collapsed": false,
     "input": [
      "np.linalg.norm(F)"
     ],
     "language": "python",
     "metadata": {},
     "outputs": [
      {
       "metadata": {},
       "output_type": "pyout",
       "prompt_number": 52,
       "text": [
        "1.4883896339051255"
       ]
      }
     ],
     "prompt_number": 52
    },
    {
     "cell_type": "code",
     "collapsed": false,
     "input": [
      "# Compute condition number norms"
     ],
     "language": "python",
     "metadata": {},
     "outputs": [],
     "prompt_number": 53
    },
    {
     "cell_type": "code",
     "collapsed": false,
     "input": [
      "# Inf norm\n",
      "np.linalg.norm(cond_num,np.inf)"
     ],
     "language": "python",
     "metadata": {},
     "outputs": [
      {
       "metadata": {},
       "output_type": "pyout",
       "prompt_number": 54,
       "text": [
        "1.8211695614459877"
       ]
      }
     ],
     "prompt_number": 54
    },
    {
     "cell_type": "code",
     "collapsed": false,
     "input": [
      "# 2 norm\n",
      "np.linalg.norm(cond_num)"
     ],
     "language": "python",
     "metadata": {},
     "outputs": [
      {
       "metadata": {},
       "output_type": "pyout",
       "prompt_number": 55,
       "text": [
        "3.2725658611805772"
       ]
      }
     ],
     "prompt_number": 55
    },
    {
     "cell_type": "code",
     "collapsed": false,
     "input": [],
     "language": "python",
     "metadata": {},
     "outputs": [],
     "prompt_number": 55
    }
   ],
   "metadata": {}
  }
 ]
}