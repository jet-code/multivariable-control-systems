{
 "metadata": {
  "name": "",
  "signature": "sha256:81fc9d937f15ecdf81a80ad5d03d7ab4f69c251a1b8fa0130888a6a38c0b1ee6"
 },
 "nbformat": 3,
 "nbformat_minor": 0,
 "worksheets": [
  {
   "cells": [
    {
     "cell_type": "code",
     "collapsed": false,
     "input": [
      "# Alexander Hebert\n",
      "# ECE 6390\n",
      "# Computer Project #2\n",
      "# Method 2/3"
     ],
     "language": "python",
     "metadata": {},
     "outputs": [],
     "prompt_number": 1
    },
    {
     "cell_type": "code",
     "collapsed": false,
     "input": [
      "# Tested using Python v3.4 and IPython v2"
     ],
     "language": "python",
     "metadata": {},
     "outputs": [],
     "prompt_number": 2
    },
    {
     "cell_type": "code",
     "collapsed": false,
     "input": [
      "# Import libraries and functions"
     ],
     "language": "python",
     "metadata": {},
     "outputs": [],
     "prompt_number": 3
    },
    {
     "cell_type": "code",
     "collapsed": false,
     "input": [
      "import numpy as np"
     ],
     "language": "python",
     "metadata": {},
     "outputs": [],
     "prompt_number": 4
    },
    {
     "cell_type": "code",
     "collapsed": false,
     "input": [
      "from PlaneRotationFn import planeRotation1\n",
      "from PlaneRotationFn import planeRotation2"
     ],
     "language": "python",
     "metadata": {},
     "outputs": [],
     "prompt_number": 5
    },
    {
     "cell_type": "code",
     "collapsed": false,
     "input": [
      "import scipy"
     ],
     "language": "python",
     "metadata": {},
     "outputs": [],
     "prompt_number": 6
    },
    {
     "cell_type": "code",
     "collapsed": false,
     "input": [
      "import sympy"
     ],
     "language": "python",
     "metadata": {},
     "outputs": [],
     "prompt_number": 7
    },
    {
     "cell_type": "code",
     "collapsed": false,
     "input": [
      "from IPython.display import display"
     ],
     "language": "python",
     "metadata": {},
     "outputs": [],
     "prompt_number": 8
    },
    {
     "cell_type": "code",
     "collapsed": false,
     "input": [
      "from sympy.interactive import printing"
     ],
     "language": "python",
     "metadata": {},
     "outputs": [],
     "prompt_number": 9
    },
    {
     "cell_type": "code",
     "collapsed": false,
     "input": [
      "np.set_printoptions(precision=6)"
     ],
     "language": "python",
     "metadata": {},
     "outputs": [],
     "prompt_number": 10
    },
    {
     "cell_type": "code",
     "collapsed": false,
     "input": [
      "#np.set_printoptions(suppress=True)"
     ],
     "language": "python",
     "metadata": {},
     "outputs": [],
     "prompt_number": 11
    },
    {
     "cell_type": "code",
     "collapsed": false,
     "input": [
      "# Original system:"
     ],
     "language": "python",
     "metadata": {},
     "outputs": [],
     "prompt_number": 12
    },
    {
     "cell_type": "code",
     "collapsed": false,
     "input": [
      "A = np.loadtxt('A_ex1.txt')"
     ],
     "language": "python",
     "metadata": {},
     "outputs": [],
     "prompt_number": 13
    },
    {
     "cell_type": "code",
     "collapsed": false,
     "input": [
      "A"
     ],
     "language": "python",
     "metadata": {},
     "outputs": [
      {
       "metadata": {},
       "output_type": "pyout",
       "prompt_number": 14,
       "text": [
        "array([[ 1.38  , -0.2077,  6.715 , -5.676 ],\n",
        "       [-0.5814, -4.29  ,  0.    ,  0.675 ],\n",
        "       [ 1.067 ,  4.273 , -6.654 ,  5.893 ],\n",
        "       [ 0.048 ,  4.273 ,  1.343 , -2.104 ]])"
       ]
      }
     ],
     "prompt_number": 14
    },
    {
     "cell_type": "code",
     "collapsed": false,
     "input": [
      "n,nc = A.shape"
     ],
     "language": "python",
     "metadata": {},
     "outputs": [],
     "prompt_number": 15
    },
    {
     "cell_type": "code",
     "collapsed": false,
     "input": [
      "B = np.loadtxt('B_ex1.txt')"
     ],
     "language": "python",
     "metadata": {},
     "outputs": [],
     "prompt_number": 16
    },
    {
     "cell_type": "code",
     "collapsed": false,
     "input": [
      "B"
     ],
     "language": "python",
     "metadata": {},
     "outputs": [
      {
       "metadata": {},
       "output_type": "pyout",
       "prompt_number": 17,
       "text": [
        "array([[ 0.   ,  0.   ],\n",
        "       [ 5.679,  0.   ],\n",
        "       [ 1.136, -3.146],\n",
        "       [ 1.136,  0.   ]])"
       ]
      }
     ],
     "prompt_number": 17
    },
    {
     "cell_type": "code",
     "collapsed": false,
     "input": [
      "nr,m = B.shape"
     ],
     "language": "python",
     "metadata": {},
     "outputs": [],
     "prompt_number": 18
    },
    {
     "cell_type": "code",
     "collapsed": false,
     "input": [
      "# Compute eigenvalues/poles of A to determine system stability:"
     ],
     "language": "python",
     "metadata": {},
     "outputs": [],
     "prompt_number": 19
    },
    {
     "cell_type": "code",
     "collapsed": false,
     "input": [
      "A_eigvals, M = np.linalg.eig(A)"
     ],
     "language": "python",
     "metadata": {},
     "outputs": [],
     "prompt_number": 20
    },
    {
     "cell_type": "code",
     "collapsed": false,
     "input": [
      "A_eigvals"
     ],
     "language": "python",
     "metadata": {},
     "outputs": [
      {
       "metadata": {},
       "output_type": "pyout",
       "prompt_number": 21,
       "text": [
        "array([ 1.99096 ,  0.063508, -5.056574, -8.665894])"
       ]
      }
     ],
     "prompt_number": 21
    },
    {
     "cell_type": "code",
     "collapsed": false,
     "input": [
      "# Two poles lie in the RHP and are unstable."
     ],
     "language": "python",
     "metadata": {},
     "outputs": [],
     "prompt_number": 22
    },
    {
     "cell_type": "code",
     "collapsed": false,
     "input": [
      "A_eigvals_desired = np.array([-0.2,-0.5,A_eigvals[2],A_eigvals[3]])"
     ],
     "language": "python",
     "metadata": {},
     "outputs": [],
     "prompt_number": 23
    },
    {
     "cell_type": "code",
     "collapsed": false,
     "input": [
      "A_eigvals_desired"
     ],
     "language": "python",
     "metadata": {},
     "outputs": [
      {
       "metadata": {},
       "output_type": "pyout",
       "prompt_number": 24,
       "text": [
        "array([-0.2     , -0.5     , -5.056574, -8.665894])"
       ]
      }
     ],
     "prompt_number": 24
    },
    {
     "cell_type": "code",
     "collapsed": false,
     "input": [
      "Lambda = np.diag(A_eigvals_desired)"
     ],
     "language": "python",
     "metadata": {},
     "outputs": [],
     "prompt_number": 25
    },
    {
     "cell_type": "code",
     "collapsed": false,
     "input": [
      "Lambda"
     ],
     "language": "python",
     "metadata": {},
     "outputs": [
      {
       "metadata": {},
       "output_type": "pyout",
       "prompt_number": 26,
       "text": [
        "array([[-0.2     ,  0.      ,  0.      ,  0.      ],\n",
        "       [ 0.      , -0.5     ,  0.      ,  0.      ],\n",
        "       [ 0.      ,  0.      , -5.056574,  0.      ],\n",
        "       [ 0.      ,  0.      ,  0.      , -8.665894]])"
       ]
      }
     ],
     "prompt_number": 26
    },
    {
     "cell_type": "code",
     "collapsed": false,
     "input": [
      "# Pole Assignment Algorithm from journal paper"
     ],
     "language": "python",
     "metadata": {},
     "outputs": [],
     "prompt_number": 27
    },
    {
     "cell_type": "code",
     "collapsed": false,
     "input": [
      "# Step A: Decomposition of B using SVD\n",
      "# B = U*S*V.H"
     ],
     "language": "python",
     "metadata": {},
     "outputs": [],
     "prompt_number": 28
    },
    {
     "cell_type": "code",
     "collapsed": false,
     "input": [
      "U, s, VH = np.linalg.svd(B)"
     ],
     "language": "python",
     "metadata": {},
     "outputs": [],
     "prompt_number": 29
    },
    {
     "cell_type": "code",
     "collapsed": false,
     "input": [
      "U"
     ],
     "language": "python",
     "metadata": {},
     "outputs": [
      {
       "metadata": {},
       "output_type": "pyout",
       "prompt_number": 30,
       "text": [
        "array([[  6.016779e-18,  -8.304906e-17,  -9.868038e-01,  -1.619203e-01],\n",
        "       [ -9.460842e-01,  -2.577794e-01,   3.176055e-02,  -1.935609e-01],\n",
        "       [ -2.628862e-01,   9.648268e-01,  -2.220446e-16,   0.000000e+00],\n",
        "       [ -1.892501e-01,  -5.156495e-02,  -1.587748e-01,   9.676342e-01]])"
       ]
      }
     ],
     "prompt_number": 30
    },
    {
     "cell_type": "code",
     "collapsed": false,
     "input": [
      "s"
     ],
     "language": "python",
     "metadata": {},
     "outputs": [
      {
       "metadata": {},
       "output_type": "pyout",
       "prompt_number": 31,
       "text": [
        "array([ 5.944254,  3.065158])"
       ]
      }
     ],
     "prompt_number": 31
    },
    {
     "cell_type": "code",
     "collapsed": false,
     "input": [
      "S = np.zeros((4, 2))\n",
      "S[:2, :2] = np.diag(s)"
     ],
     "language": "python",
     "metadata": {},
     "outputs": [],
     "prompt_number": 32
    },
    {
     "cell_type": "code",
     "collapsed": false,
     "input": [
      "S"
     ],
     "language": "python",
     "metadata": {},
     "outputs": [
      {
       "metadata": {},
       "output_type": "pyout",
       "prompt_number": 33,
       "text": [
        "array([[ 5.944254,  0.      ],\n",
        "       [ 0.      ,  3.065158],\n",
        "       [ 0.      ,  0.      ],\n",
        "       [ 0.      ,  0.      ]])"
       ]
      }
     ],
     "prompt_number": 33
    },
    {
     "cell_type": "code",
     "collapsed": false,
     "input": [
      "VH"
     ],
     "language": "python",
     "metadata": {},
     "outputs": [
      {
       "metadata": {},
       "output_type": "pyout",
       "prompt_number": 34,
       "text": [
        "array([[-0.990274,  0.139133],\n",
        "       [-0.139133, -0.990274]])"
       ]
      }
     ],
     "prompt_number": 34
    },
    {
     "cell_type": "code",
     "collapsed": false,
     "input": [
      "# Extract U_0 and U_1 from matrix U = [U_0,U_1]"
     ],
     "language": "python",
     "metadata": {},
     "outputs": [],
     "prompt_number": 35
    },
    {
     "cell_type": "code",
     "collapsed": false,
     "input": [
      "U_0 = U[:n,:m]"
     ],
     "language": "python",
     "metadata": {},
     "outputs": [],
     "prompt_number": 36
    },
    {
     "cell_type": "code",
     "collapsed": false,
     "input": [
      "U_0"
     ],
     "language": "python",
     "metadata": {},
     "outputs": [
      {
       "metadata": {},
       "output_type": "pyout",
       "prompt_number": 37,
       "text": [
        "array([[  6.016779e-18,  -8.304906e-17],\n",
        "       [ -9.460842e-01,  -2.577794e-01],\n",
        "       [ -2.628862e-01,   9.648268e-01],\n",
        "       [ -1.892501e-01,  -5.156495e-02]])"
       ]
      }
     ],
     "prompt_number": 37
    },
    {
     "cell_type": "code",
     "collapsed": false,
     "input": [
      "U_1 = U[:n,m:]"
     ],
     "language": "python",
     "metadata": {},
     "outputs": [],
     "prompt_number": 38
    },
    {
     "cell_type": "code",
     "collapsed": false,
     "input": [
      "U_1"
     ],
     "language": "python",
     "metadata": {},
     "outputs": [
      {
       "metadata": {},
       "output_type": "pyout",
       "prompt_number": 39,
       "text": [
        "array([[ -9.868038e-01,  -1.619203e-01],\n",
        "       [  3.176055e-02,  -1.935609e-01],\n",
        "       [ -2.220446e-16,   0.000000e+00],\n",
        "       [ -1.587748e-01,   9.676342e-01]])"
       ]
      }
     ],
     "prompt_number": 39
    },
    {
     "cell_type": "code",
     "collapsed": false,
     "input": [
      "# B = [U_0,U_1][Z,0].T\n",
      "# Compute Z from SVD of B"
     ],
     "language": "python",
     "metadata": {},
     "outputs": [],
     "prompt_number": 40
    },
    {
     "cell_type": "code",
     "collapsed": false,
     "input": [
      "Z = np.diag(s).dot(VH)"
     ],
     "language": "python",
     "metadata": {},
     "outputs": [],
     "prompt_number": 41
    },
    {
     "cell_type": "code",
     "collapsed": false,
     "input": [
      "Z"
     ],
     "language": "python",
     "metadata": {},
     "outputs": [
      {
       "metadata": {},
       "output_type": "pyout",
       "prompt_number": 42,
       "text": [
        "array([[-5.886439,  0.82704 ],\n",
        "       [-0.426464, -3.035345]])"
       ]
      }
     ],
     "prompt_number": 42
    },
    {
     "cell_type": "code",
     "collapsed": false,
     "input": [
      "# U_1.T *(A - lambda_j*I)\n",
      "# Compute S_hat_j and S_j\n",
      "\n",
      "for j in range(len(A_eigvals_desired)):\n",
      "    \n",
      "    lambda_j = A_eigvals_desired[j]\n",
      "    \n",
      "    # M_j is a temp matrix\n",
      "    exec(\"M_%d = np.dot(U_1.T,(A - lambda_j*np.identity(n)))\" %(j+1))\n",
      "    \n",
      "    # U_1.T *(A - lambda_j*I) = T_j *[Gamma_j,0]*[S_j_hat,S_j].T\n",
      "    exec(\"T_%d, gamma_%d, SH_%d = np.linalg.svd(M_%d)\" %(j+1,j+1,j+1,j+1))\n",
      "    \n",
      "    exec(\"S_hat_%d = SH_%d[:m,:].T\" %(j+1,j+1))\n",
      "    exec(\"S_%d = SH_%d[m:,:].T\" %(j+1,j+1))\n",
      "    "
     ],
     "language": "python",
     "metadata": {},
     "outputs": [],
     "prompt_number": 43
    },
    {
     "cell_type": "code",
     "collapsed": false,
     "input": [
      "# Initial eigenvectors in X_tilde\n",
      "X_tilde = np.eye(n)\n",
      "X_tilde"
     ],
     "language": "python",
     "metadata": {},
     "outputs": [
      {
       "metadata": {},
       "output_type": "pyout",
       "prompt_number": 44,
       "text": [
        "array([[ 1.,  0.,  0.,  0.],\n",
        "       [ 0.,  1.,  0.,  0.],\n",
        "       [ 0.,  0.,  1.,  0.],\n",
        "       [ 0.,  0.,  0.,  1.]])"
       ]
      }
     ],
     "prompt_number": 44
    },
    {
     "cell_type": "code",
     "collapsed": false,
     "input": [
      "# Initial eigenvectors in X\n",
      "X = np.zeros((n,n))\n",
      "X"
     ],
     "language": "python",
     "metadata": {},
     "outputs": [
      {
       "metadata": {},
       "output_type": "pyout",
       "prompt_number": 45,
       "text": [
        "array([[ 0.,  0.,  0.,  0.],\n",
        "       [ 0.,  0.,  0.,  0.],\n",
        "       [ 0.,  0.,  0.,  0.],\n",
        "       [ 0.,  0.,  0.,  0.]])"
       ]
      }
     ],
     "prompt_number": 45
    },
    {
     "cell_type": "code",
     "collapsed": false,
     "input": [
      "# Step X with Method 2/3\n",
      "\n",
      "maxiter = 1\n",
      "v4prev = 0\n",
      "v4current = 0\n",
      "\n",
      "for r in range(maxiter):\n",
      "    \n",
      "    for j in range(n):\n",
      "        \n",
      "        xt_j = X_tilde[:,j].reshape((n,1))\n",
      "        \n",
      "        for k in range(j+1,n,1):\n",
      "            \n",
      "            xt_k = X_tilde[:,k].reshape((n,1))\n",
      "            \n",
      "            exec(\"phi_j = np.linalg.norm(np.dot(S_hat_%d.T,xt_j))\" %(j+1))\n",
      "            exec(\"phi_k = np.linalg.norm(np.dot(S_hat_%d.T,xt_k))\" %(k+1))\n",
      "            \n",
      "            if (phi_j < phi_k):\n",
      "                \n",
      "                sin_theta = phi_j\n",
      "                cos_theta = np.sqrt(1 - phi_j**2)\n",
      "                protation = planeRotation2(n,cos_theta,sin_theta,j,k)\n",
      "                v4current = v4current + phi_j**2\n",
      "                \n",
      "            else:\n",
      "                \n",
      "                sin_theta = phi_k\n",
      "                cos_theta = np.sqrt(1 - phi_k**2)\n",
      "                protation = planeRotation2(n,cos_theta,sin_theta,j,k)\n",
      "                v4current = v4current + phi_k**2\n",
      "            \n",
      "            X_tilde = np.dot(protation,X_tilde)\n",
      "            \n",
      "    v4current = np.sqrt(v4current)\n",
      "    print(v4current - v4prev)\n",
      "    v4prev = v4current\n",
      "    "
     ],
     "language": "python",
     "metadata": {},
     "outputs": [
      {
       "output_type": "stream",
       "stream": "stdout",
       "text": [
        "1.18443024921\n"
       ]
      }
     ],
     "prompt_number": 46
    },
    {
     "cell_type": "code",
     "collapsed": false,
     "input": [
      "# Compute eigenvectors x_j in X from X_tilde\n",
      "\n",
      "for j in range(n):\n",
      "    \n",
      "    xt_j = X_tilde[:,j].reshape((n,1)) \n",
      "    exec(\"x_j = np.dot(np.dot(S_%d,S_%d.T),xt_j) / np.linalg.norm(np.dot(S_%d.T,xt_j))\" %(j+1,j+1,j+1))\n",
      "    X[:,j] = x_j[:,0]\n",
      "    "
     ],
     "language": "python",
     "metadata": {},
     "outputs": [],
     "prompt_number": 47
    },
    {
     "cell_type": "code",
     "collapsed": false,
     "input": [
      "X"
     ],
     "language": "python",
     "metadata": {},
     "outputs": [
      {
       "metadata": {},
       "output_type": "pyout",
       "prompt_number": 48,
       "text": [
        "array([[ 0.948809, -0.093524, -0.671977,  0.142779],\n",
        "       [ 0.081417,  0.084568, -0.246883, -0.879926],\n",
        "       [ 0.035477,  0.657038,  0.694792,  0.126892],\n",
        "       [ 0.303108,  0.743238,  0.068987,  0.435021]])"
       ]
      }
     ],
     "prompt_number": 48
    },
    {
     "cell_type": "code",
     "collapsed": false,
     "input": [
      "np.linalg.matrix_rank(X)"
     ],
     "language": "python",
     "metadata": {},
     "outputs": [
      {
       "metadata": {},
       "output_type": "pyout",
       "prompt_number": 49,
       "text": [
        "4"
       ]
      }
     ],
     "prompt_number": 49
    },
    {
     "cell_type": "code",
     "collapsed": false,
     "input": [
      "X_inv = np.linalg.inv(X)"
     ],
     "language": "python",
     "metadata": {},
     "outputs": [],
     "prompt_number": 50
    },
    {
     "cell_type": "code",
     "collapsed": false,
     "input": [
      "X_inv"
     ],
     "language": "python",
     "metadata": {},
     "outputs": [
      {
       "metadata": {},
       "output_type": "pyout",
       "prompt_number": 51,
       "text": [
        "array([[ 1.338859, -0.09351 ,  1.363573, -1.026314],\n",
        "       [-0.554042,  0.641841, -0.468308,  1.61671 ],\n",
        "       [ 0.46658 , -0.426158,  1.894783, -1.567827],\n",
        "       [-0.060276, -0.963857, -0.450465,  0.500306]])"
       ]
      }
     ],
     "prompt_number": 51
    },
    {
     "cell_type": "code",
     "collapsed": false,
     "input": [
      "# M defined as A + BF\n",
      "M = X.dot(Lambda).dot(X_inv)"
     ],
     "language": "python",
     "metadata": {},
     "outputs": [],
     "prompt_number": 52
    },
    {
     "cell_type": "code",
     "collapsed": false,
     "input": [
      "M"
     ],
     "language": "python",
     "metadata": {},
     "outputs": [
      {
       "metadata": {},
       "output_type": "pyout",
       "prompt_number": 53,
       "text": [
        "array([[ 1.38    , -0.2077  ,  6.715   , -5.676   ],\n",
        "       [ 0.12447 , -7.907368, -1.071934,  1.806108],\n",
        "       [-1.400423,  2.346898, -6.017361,  4.434204],\n",
        "       [ 0.189199,  3.549399,  1.128575, -1.877739]])"
       ]
      }
     ],
     "prompt_number": 53
    },
    {
     "cell_type": "code",
     "collapsed": false,
     "input": [
      "M_eigvals, H = np.linalg.eig(M)\n",
      "M_eigvals"
     ],
     "language": "python",
     "metadata": {},
     "outputs": [
      {
       "metadata": {},
       "output_type": "pyout",
       "prompt_number": 54,
       "text": [
        "array([-8.665894, -5.056574, -0.5     , -0.2     ])"
       ]
      }
     ],
     "prompt_number": 54
    },
    {
     "cell_type": "code",
     "collapsed": false,
     "input": [
      "# Compute feedback matrix F\n",
      "F = np.dot(np.linalg.inv(Z),np.dot(U_0.T,(M - A)))"
     ],
     "language": "python",
     "metadata": {},
     "outputs": [],
     "prompt_number": 55
    },
    {
     "cell_type": "code",
     "collapsed": false,
     "input": [
      "F"
     ],
     "language": "python",
     "metadata": {},
     "outputs": [
      {
       "metadata": {},
       "output_type": "pyout",
       "prompt_number": 56,
       "text": [
        "array([[ 0.124295, -0.636973, -0.188754,  0.199174],\n",
        "       [ 0.829187,  0.382232, -0.270522,  0.535619]])"
       ]
      }
     ],
     "prompt_number": 56
    },
    {
     "cell_type": "code",
     "collapsed": false,
     "input": [
      "np.linalg.norm(F)"
     ],
     "language": "python",
     "metadata": {},
     "outputs": [
      {
       "metadata": {},
       "output_type": "pyout",
       "prompt_number": 57,
       "text": [
        "1.300078330255144"
       ]
      }
     ],
     "prompt_number": 57
    },
    {
     "cell_type": "code",
     "collapsed": false,
     "input": [
      "np.linalg.cond(X)"
     ],
     "language": "python",
     "metadata": {},
     "outputs": [
      {
       "metadata": {},
       "output_type": "pyout",
       "prompt_number": 58,
       "text": [
        "4.9355547197097671"
       ]
      }
     ],
     "prompt_number": 58
    }
   ],
   "metadata": {}
  }
 ]
}