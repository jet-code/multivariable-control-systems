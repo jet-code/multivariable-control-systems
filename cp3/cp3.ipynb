{
 "metadata": {
  "name": "",
  "signature": "sha256:5c7de4fa3e4e108f97f86d26ededd568a5aed902df4edc35cc8bce89d6a2091b"
 },
 "nbformat": 3,
 "nbformat_minor": 0,
 "worksheets": [
  {
   "cells": [
    {
     "cell_type": "code",
     "collapsed": false,
     "input": [
      "# Alexander Hebert\n",
      "# ECE 6390\n",
      "# Computer Project #3"
     ],
     "language": "python",
     "metadata": {},
     "outputs": [],
     "prompt_number": 1
    },
    {
     "cell_type": "code",
     "collapsed": false,
     "input": [
      "# Tested using Python v3.4 and IPython v2"
     ],
     "language": "python",
     "metadata": {},
     "outputs": [],
     "prompt_number": 2
    },
    {
     "cell_type": "code",
     "collapsed": false,
     "input": [
      "# Import libraries"
     ],
     "language": "python",
     "metadata": {},
     "outputs": [],
     "prompt_number": 3
    },
    {
     "cell_type": "code",
     "collapsed": false,
     "input": [
      "import numpy as np"
     ],
     "language": "python",
     "metadata": {},
     "outputs": [],
     "prompt_number": 4
    },
    {
     "cell_type": "code",
     "collapsed": false,
     "input": [
      "import scipy"
     ],
     "language": "python",
     "metadata": {},
     "outputs": [],
     "prompt_number": 5
    },
    {
     "cell_type": "code",
     "collapsed": false,
     "input": [
      "import sympy"
     ],
     "language": "python",
     "metadata": {},
     "outputs": [],
     "prompt_number": 6
    },
    {
     "cell_type": "code",
     "collapsed": false,
     "input": [
      "import itertools"
     ],
     "language": "python",
     "metadata": {},
     "outputs": [],
     "prompt_number": 7
    },
    {
     "cell_type": "code",
     "collapsed": false,
     "input": [
      "from MatrixSignFunction import msf"
     ],
     "language": "python",
     "metadata": {},
     "outputs": [],
     "prompt_number": 8
    },
    {
     "cell_type": "code",
     "collapsed": false,
     "input": [
      "from IPython.display import display"
     ],
     "language": "python",
     "metadata": {},
     "outputs": [],
     "prompt_number": 9
    },
    {
     "cell_type": "code",
     "collapsed": false,
     "input": [
      "from sympy.interactive import printing"
     ],
     "language": "python",
     "metadata": {},
     "outputs": [],
     "prompt_number": 10
    },
    {
     "cell_type": "code",
     "collapsed": false,
     "input": [
      "np.set_printoptions(linewidth=200,\n",
      "                    formatter={'all':lambda x: format(x,'10.5f')})"
     ],
     "language": "python",
     "metadata": {},
     "outputs": [],
     "prompt_number": 11
    },
    {
     "cell_type": "code",
     "collapsed": false,
     "input": [
      "#np.set_printoptions(suppress=True)"
     ],
     "language": "python",
     "metadata": {},
     "outputs": [],
     "prompt_number": 12
    },
    {
     "cell_type": "code",
     "collapsed": false,
     "input": [
      "# Original system:"
     ],
     "language": "python",
     "metadata": {},
     "outputs": [],
     "prompt_number": 13
    },
    {
     "cell_type": "code",
     "collapsed": false,
     "input": [
      "A = np.loadtxt('A.txt')\n",
      "print(A)"
     ],
     "language": "python",
     "metadata": {},
     "outputs": [
      {
       "output_type": "stream",
       "stream": "stdout",
       "text": [
        "[[   0.00000    1.00000    0.00000    0.00000    0.00000    0.00000    0.00000    0.00000    0.00000    0.00000]\n",
        " [   0.00000   -0.11323   -0.98109  -11.84700  -11.84700  -63.08000  -34.33900  -34.33900  -27.64500    0.00000]\n",
        " [ 324.12100   -1.17550  -29.10100    0.12722    2.83448 -967.73000 -678.14000 -678.14000    0.00000 -129.29000]\n",
        " [-127.30000    0.46167   11.42940   -1.03790   13.12370  380.07900  266.34100  266.34100    0.00000 1054.85000]\n",
        " [-186.05000    0.67475   16.70450    0.86092  -17.06800  555.50200  389.26800  389.26800    0.00000 -874.92000]\n",
        " [ 341.91700    1.09173 1052.75000  756.46500  756.46500  -29.77400    0.16507    3.27626    0.00000    0.00000]\n",
        " [ -30.74800   -0.09817  -94.67400  -68.02900  -68.02900    2.67753   -2.65580    4.88497    0.00000    0.00000]\n",
        " [-302.36000   -0.96543 -930.96000 -668.95000 -668.95000   26.32920    2.42028   -9.56030    0.00000    0.00000]\n",
        " [   0.00000    0.00000    0.00000    0.00000    0.00000    0.00000    0.00000    0.00000   -1.66670    0.00000]\n",
        " [   0.00000    0.00000    0.00000    0.00000    0.00000    0.00000    0.00000    0.00000    0.00000  -10.00000]]\n"
       ]
      }
     ],
     "prompt_number": 14
    },
    {
     "cell_type": "code",
     "collapsed": false,
     "input": [
      "n,nc = A.shape"
     ],
     "language": "python",
     "metadata": {},
     "outputs": [],
     "prompt_number": 15
    },
    {
     "cell_type": "code",
     "collapsed": false,
     "input": [
      "B = np.loadtxt('B.txt')\n",
      "print(B)"
     ],
     "language": "python",
     "metadata": {},
     "outputs": [
      {
       "output_type": "stream",
       "stream": "stdout",
       "text": [
        "[[   0.00000    0.00000]\n",
        " [   0.00000    0.00000]\n",
        " [   0.00000    0.00000]\n",
        " [   0.00000    0.00000]\n",
        " [   0.00000    0.00000]\n",
        " [   0.00000    0.00000]\n",
        " [   0.00000    0.00000]\n",
        " [   0.00000    0.00000]\n",
        " [   1.66667    0.00000]\n",
        " [   0.00000   10.00000]]\n"
       ]
      }
     ],
     "prompt_number": 16
    },
    {
     "cell_type": "code",
     "collapsed": false,
     "input": [
      "nr,m = B.shape"
     ],
     "language": "python",
     "metadata": {},
     "outputs": [],
     "prompt_number": 17
    },
    {
     "cell_type": "code",
     "collapsed": false,
     "input": [
      "C = np.loadtxt('C.txt')\n",
      "print(C)"
     ],
     "language": "python",
     "metadata": {},
     "outputs": [
      {
       "output_type": "stream",
       "stream": "stdout",
       "text": [
        "[[   1.00000    0.00000    0.00000    0.00000    0.00000    0.00000    0.00000    0.00000    0.00000    0.00000]\n",
        " [  -0.49134    0.00000   -0.63203    0.00000    0.00000   -0.20743    0.00000    0.00000    0.00000    0.00000]]\n"
       ]
      }
     ],
     "prompt_number": 18
    },
    {
     "cell_type": "code",
     "collapsed": false,
     "input": [
      "D = np.zeros((2,2))\n",
      "print(D)"
     ],
     "language": "python",
     "metadata": {},
     "outputs": [
      {
       "output_type": "stream",
       "stream": "stdout",
       "text": [
        "[[   0.00000    0.00000]\n",
        " [   0.00000    0.00000]]\n"
       ]
      }
     ],
     "prompt_number": 19
    },
    {
     "cell_type": "code",
     "collapsed": false,
     "input": [
      "# Compute eigenvalues/poles of A to determine system stability:"
     ],
     "language": "python",
     "metadata": {},
     "outputs": [],
     "prompt_number": 20
    },
    {
     "cell_type": "code",
     "collapsed": false,
     "input": [
      "A_eigvals, M = np.linalg.eig(A)"
     ],
     "language": "python",
     "metadata": {},
     "outputs": [],
     "prompt_number": 21
    },
    {
     "cell_type": "code",
     "collapsed": false,
     "input": [
      "# Sort eigenvalues in descending order\n",
      "idx = A_eigvals.argsort()[::-1]\n",
      "A_eigvals = A_eigvals[idx]\n",
      "print(A_eigvals)"
     ],
     "language": "python",
     "metadata": {},
     "outputs": [
      {
       "output_type": "stream",
       "stream": "stdout",
       "text": [
        "[-0.23448+0.00000j -0.34915+6.34401j -0.34915-6.34401j -1.04205+0.00000j -1.66670+0.00000j -10.00000+0.00000j -10.74614+0.00000j -17.66419+0.00000j -29.46253+313.93671j -29.46253-313.93671j]\n"
       ]
      }
     ],
     "prompt_number": 22
    },
    {
     "cell_type": "code",
     "collapsed": false,
     "input": [
      "# All poles are stable."
     ],
     "language": "python",
     "metadata": {},
     "outputs": [],
     "prompt_number": 23
    },
    {
     "cell_type": "code",
     "collapsed": false,
     "input": [
      "# Sort eigenvectors\n",
      "M = M[:,idx]"
     ],
     "language": "python",
     "metadata": {},
     "outputs": [],
     "prompt_number": 24
    },
    {
     "cell_type": "code",
     "collapsed": false,
     "input": [
      "# Mean of eigenvalues\n",
      "gamma = sum(np.real(A_eigvals)) / n\n",
      "print(gamma)"
     ],
     "language": "python",
     "metadata": {},
     "outputs": [
      {
       "output_type": "stream",
       "stream": "stdout",
       "text": [
        "-10.097693\n"
       ]
      }
     ],
     "prompt_number": 25
    },
    {
     "cell_type": "code",
     "collapsed": false,
     "input": [
      "A_hat = A - gamma * np.eye(n)\n",
      "print(A_hat)"
     ],
     "language": "python",
     "metadata": {},
     "outputs": [
      {
       "output_type": "stream",
       "stream": "stdout",
       "text": [
        "[[  10.09769    1.00000    0.00000    0.00000    0.00000    0.00000    0.00000    0.00000    0.00000    0.00000]\n",
        " [   0.00000    9.98446   -0.98109  -11.84700  -11.84700  -63.08000  -34.33900  -34.33900  -27.64500    0.00000]\n",
        " [ 324.12100   -1.17550  -19.00331    0.12722    2.83448 -967.73000 -678.14000 -678.14000    0.00000 -129.29000]\n",
        " [-127.30000    0.46167   11.42940    9.05979   13.12370  380.07900  266.34100  266.34100    0.00000 1054.85000]\n",
        " [-186.05000    0.67475   16.70450    0.86092   -6.97031  555.50200  389.26800  389.26800    0.00000 -874.92000]\n",
        " [ 341.91700    1.09173 1052.75000  756.46500  756.46500  -19.67631    0.16507    3.27626    0.00000    0.00000]\n",
        " [ -30.74800   -0.09817  -94.67400  -68.02900  -68.02900    2.67753    7.44189    4.88497    0.00000    0.00000]\n",
        " [-302.36000   -0.96543 -930.96000 -668.95000 -668.95000   26.32920    2.42028    0.53739    0.00000    0.00000]\n",
        " [   0.00000    0.00000    0.00000    0.00000    0.00000    0.00000    0.00000    0.00000    8.43099    0.00000]\n",
        " [   0.00000    0.00000    0.00000    0.00000    0.00000    0.00000    0.00000    0.00000    0.00000    0.09769]]\n"
       ]
      }
     ],
     "prompt_number": 26
    },
    {
     "cell_type": "code",
     "collapsed": false,
     "input": [
      "A_hat_eigvals, M_hat = np.linalg.eig(A_hat)"
     ],
     "language": "python",
     "metadata": {},
     "outputs": [],
     "prompt_number": 27
    },
    {
     "cell_type": "code",
     "collapsed": false,
     "input": [
      "idx2 = A_hat_eigvals.argsort()[::-1]\n",
      "A_hat_eigvals = A_hat_eigvals[idx2]\n",
      "print(A_hat_eigvals)"
     ],
     "language": "python",
     "metadata": {},
     "outputs": [
      {
       "output_type": "stream",
       "stream": "stdout",
       "text": [
        "[9.86321+0.00000j 9.74855+6.34401j 9.74855-6.34401j 9.05564+0.00000j 8.43099+0.00000j 0.09769+0.00000j -0.64845+0.00000j -7.56650+0.00000j -19.36484+313.93671j -19.36484-313.93671j]\n"
       ]
      }
     ],
     "prompt_number": 28
    },
    {
     "cell_type": "code",
     "collapsed": false,
     "input": [
      "# There are six dominant (unstable) eigenvalues of A_hat.\n",
      "# Therefore, the top six eigenvalues are selected\n",
      "# for the reduced order model."
     ],
     "language": "python",
     "metadata": {},
     "outputs": [],
     "prompt_number": 29
    },
    {
     "cell_type": "code",
     "collapsed": false,
     "input": [
      "# Compute sign(A_hat)\n",
      "eps = 1.0e-7\n",
      "maxiter = 100\n",
      "sign_A_hat, jp1, flag = msf(A_hat,eps,maxiter)\n",
      "print('j = %d' %jp1)\n",
      "print('flag = %d' %flag)"
     ],
     "language": "python",
     "metadata": {},
     "outputs": [
      {
       "output_type": "stream",
       "stream": "stdout",
       "text": [
        "j = 17\n",
        "flag = 1\n"
       ]
      }
     ],
     "prompt_number": 30
    },
    {
     "cell_type": "code",
     "collapsed": false,
     "input": [
      "print(sign_A_hat)"
     ],
     "language": "python",
     "metadata": {},
     "outputs": [
      {
       "output_type": "stream",
       "stream": "stdout",
       "text": [
        "[[   1.03870   -0.00336    0.02278    0.01414    0.03112   -0.11007   -0.06049   -0.11721   -0.00972    2.85405]\n",
        " [  -0.54195    1.03876   -1.01065   -0.68724   -0.98331    0.85785    0.40622    1.01189    0.10912  -43.80039]\n",
        " [  -1.84661   -0.00187   -5.01676   -4.33066   -4.03548   -0.13851   -0.24001   -0.13494    0.00303   32.96137]\n",
        " [   1.52237   -0.04730    5.23084    4.63410    5.25086    0.17573    0.29052    0.17014   -0.09360  189.82583]\n",
        " [   0.20288    0.05275    0.36461    0.40344   -0.63261   -0.05607   -0.07666   -0.05317    0.09759 -237.34365]\n",
        " [   1.95411    0.03022    0.40569    0.43978    0.41876   -4.12085   -3.74582   -3.14521    0.09592  -11.81757]\n",
        " [  -0.96414    0.07184    0.00472    0.01879   -0.00164    3.21693    2.86791    3.24639    0.21814  -23.72170]\n",
        " [  -0.77019   -0.11709   -0.39984   -0.45331   -0.40735    1.18904    1.45797    0.19074   -0.35967   40.52374]\n",
        " [   0.00000    0.00000    0.00000    0.00000    0.00000    0.00000    0.00000    0.00000    1.00000    0.00000]\n",
        " [   0.00000    0.00000    0.00000    0.00000    0.00000    0.00000    0.00000    0.00000    0.00000    1.00000]]\n"
       ]
      }
     ],
     "prompt_number": 31
    },
    {
     "cell_type": "code",
     "collapsed": false,
     "input": [
      "sign_pos_A_hat = 0.5*(sign_A_hat + np.identity(n))\n",
      "print(sign_pos_A_hat)"
     ],
     "language": "python",
     "metadata": {},
     "outputs": [
      {
       "output_type": "stream",
       "stream": "stdout",
       "text": [
        "[[   1.01935   -0.00168    0.01139    0.00707    0.01556   -0.05504   -0.03024   -0.05861   -0.00486    1.42703]\n",
        " [  -0.27098    1.01938   -0.50533   -0.34362   -0.49165    0.42893    0.20311    0.50595    0.05456  -21.90020]\n",
        " [  -0.92330   -0.00094   -2.00838   -2.16533   -2.01774   -0.06925   -0.12000   -0.06747    0.00152   16.48068]\n",
        " [   0.76119   -0.02365    2.61542    2.81705    2.62543    0.08787    0.14526    0.08507   -0.04680   94.91292]\n",
        " [   0.10144    0.02637    0.18230    0.20172    0.18369   -0.02803   -0.03833   -0.02658    0.04879 -118.67183]\n",
        " [   0.97705    0.01511    0.20284    0.21989    0.20938   -1.56042   -1.87291   -1.57261    0.04796   -5.90878]\n",
        " [  -0.48207    0.03592    0.00236    0.00940   -0.00082    1.60846    1.93396    1.62320    0.10907  -11.86085]\n",
        " [  -0.38509   -0.05854   -0.19992   -0.22665   -0.20368    0.59452    0.72898    0.59537   -0.17983   20.26187]\n",
        " [   0.00000    0.00000    0.00000    0.00000    0.00000    0.00000    0.00000    0.00000    1.00000    0.00000]\n",
        " [   0.00000    0.00000    0.00000    0.00000    0.00000    0.00000    0.00000    0.00000    0.00000    1.00000]]\n"
       ]
      }
     ],
     "prompt_number": 32
    },
    {
     "cell_type": "code",
     "collapsed": false,
     "input": [
      "np.trace(sign_pos_A_hat)"
     ],
     "language": "python",
     "metadata": {},
     "outputs": [
      {
       "metadata": {},
       "output_type": "pyout",
       "prompt_number": 33,
       "text": [
        "6.0"
       ]
      }
     ],
     "prompt_number": 33
    },
    {
     "cell_type": "code",
     "collapsed": false,
     "input": [
      "# Select eigenvectors from sign_pos_A_hat\n",
      "m_hat_1 = np.concatenate((sign_pos_A_hat[:,0:4],\n",
      "                          sign_pos_A_hat[:,8:]), 1)"
     ],
     "language": "python",
     "metadata": {},
     "outputs": [],
     "prompt_number": 34
    },
    {
     "cell_type": "code",
     "collapsed": false,
     "input": [
      "sign_neg_A_hat = 0.5*(np.identity(n) - sign_A_hat)\n",
      "print(sign_neg_A_hat)"
     ],
     "language": "python",
     "metadata": {},
     "outputs": [
      {
       "output_type": "stream",
       "stream": "stdout",
       "text": [
        "[[  -0.01935    0.00168   -0.01139   -0.00707   -0.01556    0.05504    0.03024    0.05861    0.00486   -1.42703]\n",
        " [   0.27098   -0.01938    0.50533    0.34362    0.49165   -0.42893   -0.20311   -0.50595   -0.05456   21.90020]\n",
        " [   0.92330    0.00094    3.00838    2.16533    2.01774    0.06925    0.12000    0.06747   -0.00152  -16.48068]\n",
        " [  -0.76119    0.02365   -2.61542   -1.81705   -2.62543   -0.08787   -0.14526   -0.08507    0.04680  -94.91292]\n",
        " [  -0.10144   -0.02637   -0.18230   -0.20172    0.81631    0.02803    0.03833    0.02658   -0.04879  118.67183]\n",
        " [  -0.97705   -0.01511   -0.20284   -0.21989   -0.20938    2.56042    1.87291    1.57261   -0.04796    5.90878]\n",
        " [   0.48207   -0.03592   -0.00236   -0.00940    0.00082   -1.60846   -0.93396   -1.62320   -0.10907   11.86085]\n",
        " [   0.38509    0.05854    0.19992    0.22665    0.20368   -0.59452   -0.72898    0.40463    0.17983  -20.26187]\n",
        " [   0.00000    0.00000    0.00000    0.00000    0.00000    0.00000    0.00000    0.00000    0.00000    0.00000]\n",
        " [   0.00000    0.00000    0.00000    0.00000    0.00000    0.00000    0.00000    0.00000    0.00000    0.00000]]\n"
       ]
      }
     ],
     "prompt_number": 35
    },
    {
     "cell_type": "code",
     "collapsed": false,
     "input": [
      "np.trace(sign_neg_A_hat)"
     ],
     "language": "python",
     "metadata": {},
     "outputs": [
      {
       "metadata": {},
       "output_type": "pyout",
       "prompt_number": 36,
       "text": [
        "4.0"
       ]
      }
     ],
     "prompt_number": 36
    },
    {
     "cell_type": "code",
     "collapsed": false,
     "input": [
      "# Select eigenvectors from sign_neg_A_hat\n",
      "m_hat_2 = sign_neg_A_hat[:,0:4]"
     ],
     "language": "python",
     "metadata": {},
     "outputs": [],
     "prompt_number": 37
    },
    {
     "cell_type": "code",
     "collapsed": false,
     "input": [
      "M_msf = np.concatenate((m_hat_1, m_hat_2), 1)\n",
      "print(M_msf)"
     ],
     "language": "python",
     "metadata": {},
     "outputs": [
      {
       "output_type": "stream",
       "stream": "stdout",
       "text": [
        "[[   1.01935   -0.00168    0.01139    0.00707   -0.00486    1.42703   -0.01935    0.00168   -0.01139   -0.00707]\n",
        " [  -0.27098    1.01938   -0.50533   -0.34362    0.05456  -21.90020    0.27098   -0.01938    0.50533    0.34362]\n",
        " [  -0.92330   -0.00094   -2.00838   -2.16533    0.00152   16.48068    0.92330    0.00094    3.00838    2.16533]\n",
        " [   0.76119   -0.02365    2.61542    2.81705   -0.04680   94.91292   -0.76119    0.02365   -2.61542   -1.81705]\n",
        " [   0.10144    0.02637    0.18230    0.20172    0.04879 -118.67183   -0.10144   -0.02637   -0.18230   -0.20172]\n",
        " [   0.97705    0.01511    0.20284    0.21989    0.04796   -5.90878   -0.97705   -0.01511   -0.20284   -0.21989]\n",
        " [  -0.48207    0.03592    0.00236    0.00940    0.10907  -11.86085    0.48207   -0.03592   -0.00236   -0.00940]\n",
        " [  -0.38509   -0.05854   -0.19992   -0.22665   -0.17983   20.26187    0.38509    0.05854    0.19992    0.22665]\n",
        " [   0.00000    0.00000    0.00000    0.00000    1.00000    0.00000    0.00000    0.00000    0.00000    0.00000]\n",
        " [   0.00000    0.00000    0.00000    0.00000    0.00000    1.00000    0.00000    0.00000    0.00000    0.00000]]\n"
       ]
      }
     ],
     "prompt_number": 38
    },
    {
     "cell_type": "code",
     "collapsed": false,
     "input": [
      "# Check rank of M_hat\n",
      "np.linalg.matrix_rank(M_msf)"
     ],
     "language": "python",
     "metadata": {},
     "outputs": [
      {
       "metadata": {},
       "output_type": "pyout",
       "prompt_number": 39,
       "text": [
        "10"
       ]
      }
     ],
     "prompt_number": 39
    },
    {
     "cell_type": "code",
     "collapsed": false,
     "input": [
      "M_msf_inv = np.linalg.inv(M_msf)\n",
      "print(M_msf_inv)"
     ],
     "language": "python",
     "metadata": {},
     "outputs": [
      {
       "output_type": "stream",
       "stream": "stdout",
       "text": [
        "[[   1.00000   -0.00000    0.00000    0.00000    0.00745   -3.00473   -3.62961   -3.02771   -0.00000    0.00000]\n",
        " [  -0.00000    1.00000   -0.00000   -0.00000   -0.12208  121.36333  147.73967  122.24146    0.00000   -0.00000]\n",
        " [  -0.00000    0.00000    1.00000   -0.00000    0.24684  662.69532  808.38183  667.09694    0.00000   -0.00000]\n",
        " [   0.00000   -0.00000    0.00000    1.00000    0.69977 -613.40105 -748.24942 -617.47503   -0.00000    0.00000]\n",
        " [   0.00000    0.00000    0.00000    0.00000    0.00000    0.00000    0.00000    0.00000    1.00000    0.00000]\n",
        " [  -0.00000   -0.00000   -0.00000   -0.00000    0.00000   -0.00000   -0.00000    0.00000    0.00000    1.00000]\n",
        " [   1.00000   -0.00000    0.00000    0.00000    1.60527   -2.81461   -2.16547   -1.36052    0.05304  174.32474]\n",
        " [   0.00000    1.00000   -0.00000   -0.00000   26.72206    7.23488   -3.55224   29.13826    3.92205 2603.27644]\n",
        " [   0.00000   -0.00000    1.00000   -0.00000   17.67588    1.85031   -0.78878    7.94046    0.56126 1921.83776]\n",
        " [  -0.00000    0.00000    0.00000    1.00000  -24.32204   -1.34169    2.07621  -10.43331   -0.80479 -2753.15778]]\n"
       ]
      }
     ],
     "prompt_number": 40
    },
    {
     "cell_type": "code",
     "collapsed": false,
     "input": [
      "# Diagonalize A using modal matrix from above\n",
      "Ad = M_msf_inv.dot(A).dot(M_msf)\n",
      "print(Ad)"
     ],
     "language": "python",
     "metadata": {},
     "outputs": [
      {
       "output_type": "stream",
       "stream": "stdout",
       "text": [
        "[[  -1.69221    1.00404   -0.79535   -0.65912   -0.00000   -6.52054   -0.00000    0.00000   -0.00000   -0.00000]\n",
        " [  15.27267   -0.21879  -26.78675  -28.84512  -27.64500  106.81115    0.00000   -0.00000    0.00000    0.00000]\n",
        " [ 305.43843   -0.91883   54.21425   58.25123    0.00000 -345.25166    0.00000   -0.00000    0.00000    0.00000]\n",
        " [-282.81502    0.85008  -50.51501  -54.27808    0.00000  442.60752   -0.00000   -0.00000   -0.00000   -0.00000]\n",
        " [   0.00000    0.00000    0.00000    0.00000   -1.66670    0.00000    0.00000    0.00000    0.00000    0.00000]\n",
        " [   0.00000    0.00000    0.00000    0.00000    0.00000  -10.00000   -0.00000    0.00000   -0.00000   -0.00000]\n",
        " [  -0.00000    0.00000    0.00000    0.00000    0.00000   -0.00000 -783.07297    0.53643 -1464.66219 -1070.33745]\n",
        " [  -0.00000    0.00000    0.00000    0.00000    0.00000   -0.00000 -11198.93019   -1.96622 -18728.33307 -13766.29216]\n",
        " [   0.00000    0.00000   -0.00000   -0.00000    0.00000   -0.00000 -4708.44985    5.18282 -5103.49654 -3843.07312]\n",
        " [  -0.00000   -0.00000    0.00000    0.00000   -0.00000    0.00000 7029.84495   -7.54558 7709.10727 5801.20032]]\n"
       ]
      }
     ],
     "prompt_number": 41
    },
    {
     "cell_type": "code",
     "collapsed": false,
     "input": [
      "Bd = M_msf_inv.dot(B)\n",
      "print(Bd)"
     ],
     "language": "python",
     "metadata": {},
     "outputs": [
      {
       "output_type": "stream",
       "stream": "stdout",
       "text": [
        "[[  -0.00000    0.00000]\n",
        " [   0.00000   -0.00000]\n",
        " [   0.00000   -0.00000]\n",
        " [  -0.00000    0.00000]\n",
        " [   1.66667    0.00000]\n",
        " [   0.00000   10.00000]\n",
        " [   0.08841 1743.24737]\n",
        " [   6.53676 26032.76440]\n",
        " [   0.93543 19218.37757]\n",
        " [  -1.34132 -27531.57780]]\n"
       ]
      }
     ],
     "prompt_number": 42
    },
    {
     "cell_type": "code",
     "collapsed": false,
     "input": [
      "Cd = C.dot(M_msf)\n",
      "print(Cd)"
     ],
     "language": "python",
     "metadata": {},
     "outputs": [
      {
       "output_type": "stream",
       "stream": "stdout",
       "text": [
        "[[   1.01935   -0.00168    0.01139    0.00707   -0.00486    1.42703   -0.01935    0.00168   -0.01139   -0.00707]\n",
        " [  -0.11996   -0.00172    1.22169    1.31947   -0.00852   -9.89178   -0.37138    0.00172   -1.85372   -1.31947]]\n"
       ]
      }
     ],
     "prompt_number": 43
    },
    {
     "cell_type": "code",
     "collapsed": false,
     "input": [
      "# Block decoupling"
     ],
     "language": "python",
     "metadata": {},
     "outputs": [],
     "prompt_number": 44
    },
    {
     "cell_type": "code",
     "collapsed": false,
     "input": [
      "Lambda1 = Ad[0:6,0:6]\n",
      "Lambda2 = Ad[6:,6:]\n",
      "\n",
      "print(Lambda1)"
     ],
     "language": "python",
     "metadata": {},
     "outputs": [
      {
       "output_type": "stream",
       "stream": "stdout",
       "text": [
        "[[  -1.69221    1.00404   -0.79535   -0.65912   -0.00000   -6.52054]\n",
        " [  15.27267   -0.21879  -26.78675  -28.84512  -27.64500  106.81115]\n",
        " [ 305.43843   -0.91883   54.21425   58.25123    0.00000 -345.25166]\n",
        " [-282.81502    0.85008  -50.51501  -54.27808    0.00000  442.60752]\n",
        " [   0.00000    0.00000    0.00000    0.00000   -1.66670    0.00000]\n",
        " [   0.00000    0.00000    0.00000    0.00000    0.00000  -10.00000]]\n"
       ]
      }
     ],
     "prompt_number": 45
    },
    {
     "cell_type": "code",
     "collapsed": false,
     "input": [
      "Bd1 = Bd[0:6,:]\n",
      "print(Bd1)"
     ],
     "language": "python",
     "metadata": {},
     "outputs": [
      {
       "output_type": "stream",
       "stream": "stdout",
       "text": [
        "[[  -0.00000    0.00000]\n",
        " [   0.00000   -0.00000]\n",
        " [   0.00000   -0.00000]\n",
        " [  -0.00000    0.00000]\n",
        " [   1.66667    0.00000]\n",
        " [   0.00000   10.00000]]\n"
       ]
      }
     ],
     "prompt_number": 46
    },
    {
     "cell_type": "code",
     "collapsed": false,
     "input": [
      "Bd2 = Bd[6:,:]"
     ],
     "language": "python",
     "metadata": {},
     "outputs": [],
     "prompt_number": 47
    },
    {
     "cell_type": "code",
     "collapsed": false,
     "input": [
      "Cd1 = Cd[:,0:6]\n",
      "print(Cd1)"
     ],
     "language": "python",
     "metadata": {},
     "outputs": [
      {
       "output_type": "stream",
       "stream": "stdout",
       "text": [
        "[[   1.01935   -0.00168    0.01139    0.00707   -0.00486    1.42703]\n",
        " [  -0.11996   -0.00172    1.22169    1.31947   -0.00852   -9.89178]]\n"
       ]
      }
     ],
     "prompt_number": 48
    },
    {
     "cell_type": "code",
     "collapsed": false,
     "input": [
      "Cd2 = Cd[:,6:]"
     ],
     "language": "python",
     "metadata": {},
     "outputs": [],
     "prompt_number": 49
    },
    {
     "cell_type": "code",
     "collapsed": false,
     "input": [
      "Dstar = (C.dot(np.linalg.inv(-1*A)).dot(B) + D\n",
      "              - Cd1.dot(np.linalg.inv(-1*Lambda1)).dot(Bd1))"
     ],
     "language": "python",
     "metadata": {},
     "outputs": [],
     "prompt_number": 50
    },
    {
     "cell_type": "code",
     "collapsed": false,
     "input": [
      "print(Dstar)"
     ],
     "language": "python",
     "metadata": {},
     "outputs": [
      {
       "output_type": "stream",
       "stream": "stdout",
       "text": [
        "[[   0.00073   -0.98193]\n",
        " [   0.00155    5.11005]]\n"
       ]
      }
     ],
     "prompt_number": 51
    },
    {
     "cell_type": "code",
     "collapsed": false,
     "input": [
      "np.savetxt(\"Lambda1.txt\",Lambda1,fmt=list(itertools.repeat('%.18e',6)))\n",
      "np.savetxt(\"Bd1.txt\",Bd1,fmt=list(itertools.repeat('%.18e',2)))\n",
      "np.savetxt(\"Cd1.txt\",Cd1,fmt=list(itertools.repeat('%.18e',6)))\n",
      "np.savetxt(\"Dstar.txt\",Dstar,fmt=list(itertools.repeat('%.18e',2)))"
     ],
     "language": "python",
     "metadata": {},
     "outputs": [],
     "prompt_number": 52
    },
    {
     "cell_type": "code",
     "collapsed": false,
     "input": [
      "L1_eigvals, M_L1 = np.linalg.eig(Lambda1)\n",
      "np.savetxt(\"Lambda1_eigvals.txt\",L1_eigvals.reshape((6,1)),\n",
      "           fmt=list(itertools.repeat('%.18e%+.18ej',1)))\n",
      "print(L1_eigvals)"
     ],
     "language": "python",
     "metadata": {},
     "outputs": [
      {
       "output_type": "stream",
       "stream": "stdout",
       "text": [
        "[-0.34915+6.34401j -0.34915-6.34401j -1.04205+0.00000j -0.23448+0.00000j -10.00000+0.00000j -1.66670+0.00000j]\n"
       ]
      }
     ],
     "prompt_number": 53
    },
    {
     "cell_type": "code",
     "collapsed": false,
     "input": [],
     "language": "python",
     "metadata": {},
     "outputs": [],
     "prompt_number": 53
    }
   ],
   "metadata": {}
  }
 ]
}